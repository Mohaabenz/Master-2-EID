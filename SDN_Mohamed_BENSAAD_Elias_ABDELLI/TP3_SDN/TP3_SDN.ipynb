{
  "nbformat": 4,
  "nbformat_minor": 0,
  "metadata": {
    "colab": {
      "name": "TP3_SDN.ipynb",
      "provenance": [],
      "collapsed_sections": []
    },
    "kernelspec": {
      "name": "python3",
      "display_name": "Python 3"
    }
  },
  "cells": [
    {
      "cell_type": "code",
      "metadata": {
        "id": "vS00_AEeXvS2",
        "colab_type": "code",
        "colab": {}
      },
      "source": [
        "import numpy as np\n",
        "import matplotlib.pyplot as plt\n",
        "from sklearn import *\n",
        "from sklearn.preprocessing import *\n",
        "from sklearn.neighbors import KNeighborsClassifier\n",
        "from sklearn.metrics.pairwise import euclidean_distances"
      ],
      "execution_count": 0,
      "outputs": []
    },
    {
      "cell_type": "code",
      "metadata": {
        "id": "gSnl5M4ZYS5_",
        "colab_type": "code",
        "colab": {}
      },
      "source": [
        "iris = datasets.load_iris()\n",
        "X = iris.data\n",
        "Y = iris.target"
      ],
      "execution_count": 0,
      "outputs": []
    },
    {
      "cell_type": "code",
      "metadata": {
        "id": "BrOZOwr5YS82",
        "colab_type": "code",
        "colab": {}
      },
      "source": [
        "######################\n",
        "# Plus Proche Voisin #\n",
        "######################\n",
        "\n",
        "#----------------------------------#\n",
        "## 1. Créez une fonction PPV(X,Y) ##\n",
        "#----------------------------------#\n",
        "\n",
        "def PPV(X,Y) :\n",
        "    w = metrics.pairwise.euclidean_distances(X, X)\n",
        "    t = np.argsort(w)\n",
        "    cmin = np.array(t[:,1])\n",
        "    pred = Y[cmin]\n",
        "    return pred"
      ],
      "execution_count": 0,
      "outputs": []
    },
    {
      "cell_type": "code",
      "metadata": {
        "id": "Rc9g44YinHag",
        "colab_type": "code",
        "colab": {}
      },
      "source": [
        "#----------------------------------------------------------------------------#\n",
        "## 2- Modifiez la fonction pour calculer et renvoyer l’erreur de prédiction ##\n",
        "#----------------------------------------------------------------------------#\n",
        "\n",
        "def erreur_PPV(Y1,Y2):\n",
        "    dif = Y1 == Y2\n",
        "    pct = 0.0\n",
        "    n = len(dif)\n",
        "    for i in range(n):\n",
        "        if dif[i] == 0 :\n",
        "            pct = pct + 1\n",
        "    pct = pct/n*100.0\n",
        "    return pct"
      ],
      "execution_count": 0,
      "outputs": []
    },
    {
      "cell_type": "code",
      "metadata": {
        "id": "PfAhT6GLYS_b",
        "colab_type": "code",
        "outputId": "41a5ed56-a5a2-43e9-9fcd-ca58f006d3e2",
        "colab": {
          "base_uri": "https://localhost:8080/",
          "height": 136
        }
      },
      "source": [
        "#----------------------------------#\n",
        "## 3. Testez sur les données Iris ##\n",
        "#----------------------------------#\n",
        "\n",
        "P =PPV(X,Y)\n",
        "print('le plus proche voisin :\\n',PPV(X,Y))\n",
        "print('Erreur de :',erreur_PPV(Y,P))"
      ],
      "execution_count": 13,
      "outputs": [
        {
          "output_type": "stream",
          "text": [
            "le plus proche voisin :\n",
            " [0 0 0 0 0 0 0 0 0 0 0 0 0 0 0 0 0 0 0 0 0 0 0 0 0 0 0 0 0 0 0 0 0 0 0 0 0\n",
            " 0 0 0 0 0 0 0 0 0 0 0 0 0 1 1 1 1 1 1 1 1 1 1 1 1 1 1 1 1 1 1 1 1 2 1 2 1\n",
            " 1 1 1 1 1 1 1 1 1 2 1 1 1 1 1 1 1 1 1 1 1 1 1 1 1 1 2 2 2 2 2 2 1 2 2 2 2\n",
            " 2 2 2 2 2 2 2 2 1 2 2 2 2 2 2 2 2 2 2 2 2 2 1 2 2 2 2 2 2 2 2 2 2 2 2 2 2\n",
            " 2 2]\n",
            "Erreur de : 4.0\n"
          ],
          "name": "stdout"
        }
      ]
    },
    {
      "cell_type": "code",
      "metadata": {
        "id": "IuwOSAVCYTb3",
        "colab_type": "code",
        "colab": {}
      },
      "source": [
        "#--------------------------------------------------------------------------------#\n",
        "## 4. Testez la fonction des K Plus Proches Voisins de sklearn (avec ici K = 1) ##\n",
        "#--------------------------------------------------------------------------------#\n",
        "\n",
        "def kPPV(X,Y,k):\n",
        "    neigh = KNeighborsClassifier(n_neighbors=k)\n",
        "    neigh.fit(X, Y)\n",
        "    return neigh.predict(X)"
      ],
      "execution_count": 0,
      "outputs": []
    },
    {
      "cell_type": "code",
      "metadata": {
        "id": "9TChfQodp4dx",
        "colab_type": "code",
        "colab": {
          "base_uri": "https://localhost:8080/",
          "height": 119
        },
        "outputId": "ba045e3b-78b6-47cb-bd30-c8cbfd5f2c9e"
      },
      "source": [
        "#=======================================================#\n",
        "# ====== Les résultats sont-ils différents ? ========== #\n",
        "#   En effet on a 0% d'érreur avec la KPPV de sklearn   #\n",
        "#=======================================================#\n",
        "print(kPPV(X,Y,1))\n",
        "print(erreur_PPV(Y,kPPV(X,Y,1)))"
      ],
      "execution_count": 20,
      "outputs": [
        {
          "output_type": "stream",
          "text": [
            "[0 0 0 0 0 0 0 0 0 0 0 0 0 0 0 0 0 0 0 0 0 0 0 0 0 0 0 0 0 0 0 0 0 0 0 0 0\n",
            " 0 0 0 0 0 0 0 0 0 0 0 0 0 1 1 1 1 1 1 1 1 1 1 1 1 1 1 1 1 1 1 1 1 1 1 1 1\n",
            " 1 1 1 1 1 1 1 1 1 1 1 1 1 1 1 1 1 1 1 1 1 1 1 1 1 1 2 2 2 2 2 2 2 2 2 2 2\n",
            " 2 2 2 2 2 2 2 2 2 2 2 2 2 2 2 2 2 2 2 2 2 2 2 2 2 2 2 2 2 2 2 2 2 2 2 2 2\n",
            " 2 2]\n",
            "0.0\n"
          ],
          "name": "stdout"
        }
      ]
    },
    {
      "cell_type": "code",
      "metadata": {
        "id": "VN_E1TY4p4gl",
        "colab_type": "code",
        "colab": {
          "base_uri": "https://localhost:8080/",
          "height": 493
        },
        "outputId": "c46d5a2d-e228-49f1-b787-3f995ca3a491"
      },
      "source": [
        "#============================================#\n",
        "# ==== Testez avec d’autres valeurs de K ====#\n",
        "#============================================#\n",
        "\n",
        "print(\"k=6\\n\",kPPV(X,Y,6))\n",
        "print(erreur_PPV(kPPV(X,Y,6),Y))\n",
        "\n",
        "print(\"k=10\\n\",kPPV(X,Y,10))\n",
        "print(erreur_PPV(kPPV(X,Y,10),Y))\n",
        "\n",
        "print(\"k=25\\n\",kPPV(X,Y,25))\n",
        "print(erreur_PPV(kPPV(X,Y,25),Y))\n",
        "\n",
        "print(\"k=50\\n\",kPPV(X,Y,50))\n",
        "print(erreur_PPV(kPPV(X,Y,50),Y))"
      ],
      "execution_count": 25,
      "outputs": [
        {
          "output_type": "stream",
          "text": [
            "k=6\n",
            " [0 0 0 0 0 0 0 0 0 0 0 0 0 0 0 0 0 0 0 0 0 0 0 0 0 0 0 0 0 0 0 0 0 0 0 0 0\n",
            " 0 0 0 0 0 0 0 0 0 0 0 0 0 1 1 1 1 1 1 1 1 1 1 1 1 1 1 1 1 1 1 1 1 1 1 2 1\n",
            " 1 1 1 1 1 1 1 1 1 2 1 1 1 1 1 1 1 1 1 1 1 1 1 1 1 1 2 2 2 2 2 2 1 2 2 2 2\n",
            " 2 2 2 2 2 2 2 2 1 2 2 2 2 2 2 2 2 2 2 2 2 2 2 2 2 2 2 2 2 2 2 2 2 2 2 2 2\n",
            " 2 2]\n",
            "2.666666666666667\n",
            "k=10\n",
            " [0 0 0 0 0 0 0 0 0 0 0 0 0 0 0 0 0 0 0 0 0 0 0 0 0 0 0 0 0 0 0 0 0 0 0 0 0\n",
            " 0 0 0 0 0 0 0 0 0 0 0 0 0 1 1 1 1 1 1 1 1 1 1 1 1 1 1 1 1 1 1 1 1 1 1 1 1\n",
            " 1 1 1 1 1 1 1 1 1 2 1 1 1 1 1 1 1 1 1 1 1 1 1 1 1 1 2 2 2 2 2 2 1 2 2 2 2\n",
            " 2 2 2 2 2 2 2 2 2 2 2 2 2 2 2 2 2 2 2 2 2 2 2 2 2 2 2 1 2 2 2 2 2 2 2 2 2\n",
            " 2 2]\n",
            "2.0\n",
            "k=25\n",
            " [0 0 0 0 0 0 0 0 0 0 0 0 0 0 0 0 0 0 0 0 0 0 0 0 0 0 0 0 0 0 0 0 0 0 0 0 0\n",
            " 0 0 0 0 0 0 0 0 0 0 0 0 0 1 1 1 1 1 1 1 1 1 1 1 1 1 1 1 1 1 1 1 1 1 1 1 1\n",
            " 1 1 1 2 1 1 1 1 1 2 1 1 1 1 1 1 1 1 1 1 1 1 1 1 1 1 2 2 2 2 2 2 1 2 2 2 2\n",
            " 2 2 2 2 2 2 2 2 2 2 2 2 2 2 2 2 2 2 2 2 2 2 2 2 2 2 2 2 2 2 2 2 2 2 2 2 2\n",
            " 2 2]\n",
            "2.0\n",
            "k=50\n",
            " [0 0 0 0 0 0 0 0 0 0 0 0 0 0 0 0 0 0 0 0 0 0 0 0 0 0 0 0 0 0 0 0 0 0 0 0 0\n",
            " 0 0 0 0 0 0 0 0 0 0 0 0 0 1 1 2 1 1 1 1 1 1 1 1 1 1 1 1 1 1 1 1 1 1 1 1 1\n",
            " 1 1 1 2 1 1 1 1 1 1 1 1 1 1 1 1 1 1 1 1 1 1 1 1 1 1 2 2 2 2 2 2 1 2 2 2 2\n",
            " 2 2 2 2 2 2 2 2 1 2 1 2 2 2 2 1 1 2 2 2 2 2 1 2 2 2 2 1 2 2 2 2 2 2 2 2 2\n",
            " 2 2]\n",
            "6.0\n"
          ],
          "name": "stdout"
        }
      ]
    },
    {
      "cell_type": "code",
      "metadata": {
        "id": "WGEuFikIYS4S",
        "colab_type": "code",
        "outputId": "34f9dd11-da7e-4948-bf4d-0d0da04109f5",
        "colab": {
          "base_uri": "https://localhost:8080/",
          "height": 119
        }
      },
      "source": [
        "#-------------#\n",
        "## 5. BONUS  ##\n",
        "#-------------#\n",
        "\n",
        "#========================================#\n",
        "# Fonction pour trouver le plus fréquent #\n",
        "#========================================#\n",
        "\n",
        "def most_frequent(List): \n",
        "    dict = {} \n",
        "    count, itm = 0, '' \n",
        "    for item in reversed(List): \n",
        "        dict[item] = dict.get(item, 0) + 1\n",
        "        if dict[item] >= count : \n",
        "            count, itm = dict[item], item \n",
        "    return(itm) \n",
        "\n",
        "def PPVK(X,Y,k) :\n",
        "    w = metrics.pairwise.euclidean_distances(X, X)\n",
        "    t = np.argsort(w)\n",
        "    pred = np.zeros((X.shape[0]),int)\n",
        "    cmin = np.array(t[:,1:k+1])\n",
        "    p = Y[cmin]\n",
        "    for i in range(X.shape[0]):\n",
        "      pred[i] = int(most_frequent(p[i]))\n",
        "    return pred\n",
        "\n",
        "print(PPVK(X,Y,6)) \n",
        "print('Erreur de :',erreur_PPV(PPVK(X,Y,6),Y))"
      ],
      "execution_count": 15,
      "outputs": [
        {
          "output_type": "stream",
          "text": [
            "[0 0 0 0 0 0 0 0 0 0 0 0 0 0 0 0 0 0 0 0 0 0 0 0 0 0 0 0 0 0 0 0 0 0 0 0 0\n",
            " 0 0 0 0 0 0 0 0 0 0 0 0 0 1 1 1 1 1 1 1 1 1 1 1 1 1 1 1 1 1 1 1 1 2 1 2 1\n",
            " 1 1 1 1 1 1 1 1 1 2 1 1 1 1 1 1 1 1 1 1 1 1 1 1 1 1 2 2 2 2 2 2 1 2 2 2 2\n",
            " 2 2 2 2 2 2 2 2 1 2 2 2 2 2 2 2 2 2 2 2 2 2 1 2 2 2 2 2 2 2 2 2 2 2 2 2 2\n",
            " 2 2]\n",
            "Erreur de : 4.0\n"
          ],
          "name": "stdout"
        }
      ]
    },
    {
      "cell_type": "code",
      "metadata": {
        "id": "6nmUoWYA9BrZ",
        "colab_type": "code",
        "colab": {}
      },
      "source": [
        "#############################\n",
        "# Classifieur Bayesien Naïf #\n",
        "#############################\n",
        "\n",
        "#----------------------------------#\n",
        "## 1. Créez une fonction CBN(X,Y) ##\n",
        "#----------------------------------#\n",
        "\n",
        "def prob(X, m, s):\n",
        "    a = (X - m)**2\n",
        "    b = 2 * s**2\n",
        "    ex = np.exp(-(a / b))\n",
        "    res = np.log(ex / (np.sqrt(2 * np.pi)*s))\n",
        "    return res\n",
        "\n",
        "def pred(X,md):\n",
        "    p = [[sum(prob(i,*j) for j, i in zip(sums,x)) for sums in md] for x in X]\n",
        "    return p\n",
        "\n",
        "def CBN(X,Y):\n",
        "    y = np.unique(Y)\n",
        "    sep = [[x for x, t in zip(X, Y) if t == c] for c in y]\n",
        "    md = [np.c_[np.mean(i, axis=0), np.std(i, axis=0)] for i in sep]\n",
        "    mdl = np.array(md)\n",
        "    cbn = np.argmax(pred(X,mdl), axis=1)\n",
        "    return cbn"
      ],
      "execution_count": 0,
      "outputs": []
    },
    {
      "cell_type": "code",
      "metadata": {
        "id": "fXdz-IrjnWki",
        "colab_type": "code",
        "colab": {
          "base_uri": "https://localhost:8080/",
          "height": 119
        },
        "outputId": "842d2b3c-ca86-4a22-cd2a-7dd95de64528"
      },
      "source": [
        "#-----------------------------------------------------#\n",
        "## 2. Testez sur les données Iris et Fonction erreur ##\n",
        "#-----------------------------------------------------#\n",
        "\n",
        "irisCB = CBN(X,Y)\n",
        "print(irisCB)\n",
        "print('Erreur de :',erreur_PPV(irisCB,Y))"
      ],
      "execution_count": 17,
      "outputs": [
        {
          "output_type": "stream",
          "text": [
            "[0 0 0 0 0 0 0 0 0 0 0 0 0 0 0 0 0 0 0 0 0 0 0 0 0 0 0 0 0 0 0 0 0 0 0 0 0\n",
            " 0 0 0 0 0 0 0 0 0 0 0 0 0 1 1 2 1 1 1 1 1 1 1 1 1 1 1 1 1 1 1 1 1 2 1 1 1\n",
            " 1 1 1 2 1 1 1 1 1 1 1 1 1 1 1 1 1 1 1 1 1 1 1 1 1 1 2 2 2 2 2 2 1 2 2 2 2\n",
            " 2 2 2 2 2 2 2 2 1 2 2 2 2 2 2 2 2 2 2 2 2 2 1 2 2 2 2 2 2 2 2 2 2 2 2 2 2\n",
            " 2 2]\n",
            "Erreur de : 4.0\n"
          ],
          "name": "stdout"
        }
      ]
    },
    {
      "cell_type": "code",
      "metadata": {
        "id": "f6TiVN5AnaB-",
        "colab_type": "code",
        "colab": {
          "base_uri": "https://localhost:8080/",
          "height": 119
        },
        "outputId": "ac978bbe-7eda-48ef-a281-2f13358ea89b"
      },
      "source": [
        "#--------------------------------------------------------------------------#\n",
        "## 3. Testez la fonction du Classifieur Bayesien Naïf inclut dans sklearn ##\n",
        "#--------------------------------------------------------------------------#\n",
        "\n",
        "irisCBN = naive_bayes.GaussianNB().fit(X,Y).predict(X)\n",
        "print(irisCBN)\n",
        "print('Erreur de :',erreur_PPV(irisCBN,Y))"
      ],
      "execution_count": 18,
      "outputs": [
        {
          "output_type": "stream",
          "text": [
            "[0 0 0 0 0 0 0 0 0 0 0 0 0 0 0 0 0 0 0 0 0 0 0 0 0 0 0 0 0 0 0 0 0 0 0 0 0\n",
            " 0 0 0 0 0 0 0 0 0 0 0 0 0 1 1 2 1 1 1 1 1 1 1 1 1 1 1 1 1 1 1 1 1 2 1 1 1\n",
            " 1 1 1 2 1 1 1 1 1 1 1 1 1 1 1 1 1 1 1 1 1 1 1 1 1 1 2 2 2 2 2 2 1 2 2 2 2\n",
            " 2 2 2 2 2 2 2 2 1 2 2 2 2 2 2 2 2 2 2 2 2 2 1 2 2 2 2 2 2 2 2 2 2 2 2 2 2\n",
            " 2 2]\n",
            "Erreur de : 4.0\n"
          ],
          "name": "stdout"
        }
      ]
    }
  ]
}