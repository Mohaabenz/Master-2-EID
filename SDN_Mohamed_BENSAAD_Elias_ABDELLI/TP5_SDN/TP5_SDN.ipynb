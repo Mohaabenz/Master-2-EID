{
  "nbformat": 4,
  "nbformat_minor": 0,
  "metadata": {
    "colab": {
      "name": "TP5_SDN.ipynb",
      "provenance": [],
      "collapsed_sections": []
    },
    "kernelspec": {
      "name": "python3",
      "display_name": "Python 3"
    }
  },
  "cells": [
    {
      "cell_type": "code",
      "metadata": {
        "id": "srbtLA0zDPrc",
        "colab_type": "code",
        "colab": {}
      },
      "source": [
        "import argparse\n",
        "import numpy as np\n",
        "import pandas as pd\n",
        "import seaborn as sns\n",
        "import matplotlib.pyplot as plt\n",
        "import sklearn.datasets as datasets\n",
        "import sys\n",
        "import scipy"
      ],
      "execution_count": 0,
      "outputs": []
    },
    {
      "cell_type": "code",
      "metadata": {
        "id": "2X9PIpeADnkM",
        "colab_type": "code",
        "colab": {}
      },
      "source": [
        "########################\n",
        "# Descente de gradient #\n",
        "########################\n",
        "\n",
        "#------------------------------------------------------------------------------------------#\n",
        "## 1. Calculez l’expression analytique de la fonction E(x) = (x − 1)(x − 2)(x − 3)(x − 5) ##\n",
        "#------------------------------------------------------------------------------------------#\n",
        "\n",
        "def E(x):\n",
        "    return (x-1)*(x-2)*(x-3)*(x-5)"
      ],
      "execution_count": 0,
      "outputs": []
    },
    {
      "cell_type": "code",
      "metadata": {
        "id": "ggXJpI5qDnmn",
        "colab_type": "code",
        "colab": {}
      },
      "source": [
        "#-----------#\n",
        "## Dérivée ##\n",
        "#-----------#\n",
        "\n",
        "def dE(x):\n",
        "    return 4*np.power(x,3) - 33*np.power(x,2) + 82*x -61\n"
      ],
      "execution_count": 0,
      "outputs": []
    },
    {
      "cell_type": "code",
      "metadata": {
        "id": "s-P9bh4mDnrx",
        "colab_type": "code",
        "colab": {}
      },
      "source": [
        "#--------------------------------------------------------------------#\n",
        "## 2. Implémentez l’algorithme DG sous Python pour la fonction E(x) ##\n",
        "#--------------------------------------------------------------------#\n",
        "\n",
        "def DG(x0,n,e,t):\n",
        "    x =[x0]\n",
        "    res= np.array([0,E(x[0])])\n",
        "    exmin = E(x[0])\n",
        "    i = 1\n",
        "    x.append(x[0] - n*dE(x[0])) \n",
        "    while i < t and abs(x[i] - x[i-1]) > e :\n",
        "        x.append(abs(x[i] - n*dE(x[i])))\n",
        "        if exmin > E(x[i]):\n",
        "            exmin = E(x[i])\n",
        "        pred = [i,E(x[i])]\n",
        "        res = np.vstack((res,pred))\n",
        "        i = i + 1 \n",
        "    print ('Max_iteration =',i)\n",
        "    print ('Min = ',exmin)\n",
        "    return res"
      ],
      "execution_count": 0,
      "outputs": []
    },
    {
      "cell_type": "code",
      "metadata": {
        "id": "CIq60UYU1mDC",
        "colab_type": "code",
        "colab": {
          "base_uri": "https://localhost:8080/",
          "height": 340
        },
        "outputId": "69ebbfdb-541a-4303-d27d-bb08ea290496"
      },
      "source": [
        "#------------------------------------------------------------------------------#\n",
        "##   3. testez l’algorithme implémenté en utilisant des exemples d’exécution  ##\n",
        "## 4. Affichez le minimum trouvé, ainsi que E(xmin) et le nombre d’itérations ##\n",
        "#------------------------------------------------------------------------------#\n",
        "\n",
        "print('(a) x0 = 5 et η = 0.001')\n",
        "a = DG(5,0.001,0.001,1000)\n",
        "\n",
        "print('\\n(b) x0 = 5 et η = 0.01')\n",
        "b = DG(5,0.01,0.001,1000)\n",
        "\n",
        "print('\\n(c) x0 = 5 et η = 0.1')\n",
        "c = DG(5,0.1,0.001,1000)\n",
        "\n",
        "print('\\n(d) x0 = 5 et η = 0.17')\n",
        "d = DG(5,0.17,0.001,1000)\n",
        "\n",
        "#print('\\n(e) x0 = 5 et η = 1')\n",
        "#e = DG(5,1.0,0.001,1000)\n",
        "\n",
        "print('\\n(f) x0 = 0 et η = 0.001')\n",
        "f = DG(0,0.001,0.001,1000)\n"
      ],
      "execution_count": 306,
      "outputs": [
        {
          "output_type": "stream",
          "text": [
            "(a) x0 = 5 et η = 0.001\n",
            "Max_iteration = 106\n",
            "Min =  -6.89196485736797\n",
            "\n",
            "(b) x0 = 5 et η = 0.01\n",
            "Max_iteration = 20\n",
            "Min =  -6.913929319624811\n",
            "\n",
            "(c) x0 = 5 et η = 0.1\n",
            "Max_iteration = 1000\n",
            "Min =  -6.630728959124845\n",
            "\n",
            "(d) x0 = 5 et η = 0.17\n",
            "Max_iteration = 1000\n",
            "Min =  -6.538588969216836\n",
            "\n",
            "(f) x0 = 0 et η = 0.001\n",
            "Max_iteration = 151\n",
            "Min =  -1.349463100975843\n"
          ],
          "name": "stdout"
        }
      ]
    },
    {
      "cell_type": "code",
      "metadata": {
        "id": "znmKqVQH7QUz",
        "colab_type": "code",
        "colab": {
          "base_uri": "https://localhost:8080/",
          "height": 1000
        },
        "outputId": "b65a2878-f545-48c5-f506-40466e018c52"
      },
      "source": [
        "#----------------------------------------------------------------------------------------------#\n",
        "## 5. Visualisez l’évolution des minimums de la fonction E(x) trouvés au cours des itérations ##\n",
        "#----------------------------------------------------------------------------------------------#\n",
        "\n",
        "def afficherDG(res):\n",
        "    plt.plot(res[:,0],res[:,1])\n",
        "    plt.title(\"Evolution Minimum\")\n",
        "    plt.grid()\n",
        "    plt.show()\n",
        "\n",
        "print(a)\n",
        "afficherDG(a)\n",
        "\n",
        "print(b)\n",
        "afficherDG(b)"
      ],
      "execution_count": 307,
      "outputs": [
        {
          "output_type": "stream",
          "text": [
            "[[  0.           0.        ]\n",
            " [  1.          -0.56114808]\n",
            " [  2.          -1.06646858]\n",
            " [  3.          -1.52269704]\n",
            " [  4.          -1.93560652]\n",
            " [  5.          -2.31016646]\n",
            " [  6.          -2.65067188]\n",
            " [  7.          -2.96084912]\n",
            " [  8.          -3.24394284]\n",
            " [  9.          -3.5027879 ]\n",
            " [ 10.          -3.73986917]\n",
            " [ 11.          -3.95737141]\n",
            " [ 12.          -4.15722115]\n",
            " [ 13.          -4.34112189]\n",
            " [ 14.          -4.51058391]\n",
            " [ 15.          -4.66694958]\n",
            " [ 16.          -4.81141486]\n",
            " [ 17.          -4.94504775]\n",
            " [ 18.          -5.06880404]\n",
            " [ 19.          -5.18354092]\n",
            " [ 20.          -5.29002867]\n",
            " [ 21.          -5.38896083]\n",
            " [ 22.          -5.480963  ]\n",
            " [ 23.          -5.56660048]\n",
            " [ 24.          -5.64638495]\n",
            " [ 25.          -5.72078034]\n",
            " [ 26.          -5.79020793]\n",
            " [ 27.          -5.85505085]\n",
            " [ 28.          -5.91565806]\n",
            " [ 29.          -5.9723478 ]\n",
            " [ 30.          -6.02541077]\n",
            " [ 31.          -6.07511277]\n",
            " [ 32.          -6.1216972 ]\n",
            " [ 33.          -6.1653872 ]\n",
            " [ 34.          -6.20638759]\n",
            " [ 35.          -6.24488655]\n",
            " [ 36.          -6.28105721]\n",
            " [ 37.          -6.31505899]\n",
            " [ 38.          -6.34703887]\n",
            " [ 39.          -6.37713246]\n",
            " [ 40.          -6.40546501]\n",
            " [ 41.          -6.43215232]\n",
            " [ 42.          -6.45730156]\n",
            " [ 43.          -6.48101197]\n",
            " [ 44.          -6.50337555]\n",
            " [ 45.          -6.52447764]\n",
            " [ 46.          -6.54439749]\n",
            " [ 47.          -6.56320873]\n",
            " [ 48.          -6.58097983]\n",
            " [ 49.          -6.59777449]\n",
            " [ 50.          -6.61365207]\n",
            " [ 51.          -6.62866784]\n",
            " [ 52.          -6.64287337]\n",
            " [ 53.          -6.65631677]\n",
            " [ 54.          -6.66904297]\n",
            " [ 55.          -6.68109394]\n",
            " [ 56.          -6.69250891]\n",
            " [ 57.          -6.70332459]\n",
            " [ 58.          -6.71357533]\n",
            " [ 59.          -6.72329331]\n",
            " [ 60.          -6.73250866]\n",
            " [ 61.          -6.74124964]\n",
            " [ 62.          -6.74954275]\n",
            " [ 63.          -6.75741286]\n",
            " [ 64.          -6.76488333]\n",
            " [ 65.          -6.77197608]\n",
            " [ 66.          -6.77871174]\n",
            " [ 67.          -6.78510966]\n",
            " [ 68.          -6.79118809]\n",
            " [ 69.          -6.79696417]\n",
            " [ 70.          -6.80245405]\n",
            " [ 71.          -6.80767292]\n",
            " [ 72.          -6.81263513]\n",
            " [ 73.          -6.81735416]\n",
            " [ 74.          -6.82184275]\n",
            " [ 75.          -6.82611289]\n",
            " [ 76.          -6.83017593]\n",
            " [ 77.          -6.83404255]\n",
            " [ 78.          -6.83772285]\n",
            " [ 79.          -6.84122635]\n",
            " [ 80.          -6.84456208]\n",
            " [ 81.          -6.84773853]\n",
            " [ 82.          -6.85076377]\n",
            " [ 83.          -6.8536454 ]\n",
            " [ 84.          -6.85639063]\n",
            " [ 85.          -6.85900626]\n",
            " [ 86.          -6.86149874]\n",
            " [ 87.          -6.86387419]\n",
            " [ 88.          -6.86613838]\n",
            " [ 89.          -6.86829678]\n",
            " [ 90.          -6.87035459]\n",
            " [ 91.          -6.87231673]\n",
            " [ 92.          -6.87418786]\n",
            " [ 93.          -6.87597239]\n",
            " [ 94.          -6.87767452]\n",
            " [ 95.          -6.87929823]\n",
            " [ 96.          -6.88084729]\n",
            " [ 97.          -6.88232528]\n",
            " [ 98.          -6.88373561]\n",
            " [ 99.          -6.88508149]\n",
            " [100.          -6.886366  ]\n",
            " [101.          -6.88759204]\n",
            " [102.          -6.88876238]\n",
            " [103.          -6.88987966]\n",
            " [104.          -6.89094636]\n",
            " [105.          -6.89196486]]\n"
          ],
          "name": "stdout"
        },
        {
          "output_type": "display_data",
          "data": {
            "image/png": "[encoded data removed]",
            "text/plain": [
              "<Figure size 432x288 with 1 Axes>"
            ]
          },
          "metadata": {
            "tags": []
          }
        },
        {
          "output_type": "stream",
          "text": [
            "[[ 0.          0.        ]\n",
            " [ 1.         -4.38349824]\n",
            " [ 2.         -5.75937754]\n",
            " [ 3.         -6.32923246]\n",
            " [ 4.         -6.59920625]\n",
            " [ 5.         -6.73772514]\n",
            " [ 6.         -6.81259422]\n",
            " [ 7.         -6.85454135]\n",
            " [ 8.         -6.87865559]\n",
            " [ 9.         -6.89278239]\n",
            " [10.         -6.90117579]\n",
            " [11.         -6.90621621]\n",
            " [12.         -6.90926787]\n",
            " [13.         -6.9111271 ]\n",
            " [14.         -6.91226536]\n",
            " [15.         -6.91296485]\n",
            " [16.         -6.91339599]\n",
            " [17.         -6.91366233]\n",
            " [18.         -6.91382716]\n",
            " [19.         -6.91392932]]\n"
          ],
          "name": "stdout"
        },
        {
          "output_type": "display_data",
          "data": {
            "image/png": "[encoded data removed]",
            "text/plain": [
              "<Figure size 432x288 with 1 Axes>"
            ]
          },
          "metadata": {
            "tags": []
          }
        }
      ]
    },
    {
      "cell_type": "code",
      "metadata": {
        "id": "DToUFBSD6Rqt",
        "colab_type": "code",
        "colab": {
          "base_uri": "https://localhost:8080/",
          "height": 315
        },
        "outputId": "5d4ce16a-475f-483e-bd88-cf9e0d3ed1a1"
      },
      "source": [
        "#----------------------------------------------------------------------#\n",
        "## 6. Testez votre algorithme avec d’autres valeurs de e et nombremax ##\n",
        "#----------------------------------------------------------------------#\n",
        "g = DG(3,0.001,0.0001,500)\n",
        "afficherDG(g)"
      ],
      "execution_count": 308,
      "outputs": [
        {
          "output_type": "stream",
          "text": [
            "Max_iteration = 386\n",
            "Min =  -6.913865530471172\n"
          ],
          "name": "stdout"
        },
        {
          "output_type": "display_data",
          "data": {
            "image/png": "[encoded data removed]",
            "text/plain": [
              "<Figure size 432x288 with 1 Axes>"
            ]
          },
          "metadata": {
            "tags": []
          }
        }
      ]
    },
    {
      "cell_type": "code",
      "metadata": {
        "id": "EsYO8cK0LOjj",
        "colab_type": "code",
        "colab": {}
      },
      "source": [
        "#---------------------------------------------------------------------------#\n",
        "## 1. Calculez les dérivées partielles de la fonction E(a, b) selon a et b ##\n",
        "#---------------------------------------------------------------------------#\n",
        "\n",
        "def modele(X, O):\n",
        "    return X.dot(O)\n",
        "\n",
        "def cout(X, y, O):\n",
        "    m = len(y)\n",
        "    return 1/(2*m) * np.sum((modele(X, O) - y)**2)\n",
        "\n",
        "def grad(X, y, O):\n",
        "    m = len(y)\n",
        "    return 1/m * X.T.dot(modele(X, O) - y)\n",
        "    \n",
        "#----------------------------------#\n",
        "## 2. Implémentez l’algorithme DG ##\n",
        "#----------------------------------#\n",
        "\n",
        "def DG_R(X, y, n, it):\n",
        "    c = np.zeros(it)\n",
        "    np.random.seed(0)\n",
        "    O = np.random.randn(2,1)\n",
        "    for i in range(0, it):\n",
        "        O = O - n * grad(X, y, O)\n",
        "        c[i] = cout(X, y, O)\n",
        "    p = modele(X, O)\n",
        "    print(\"\\tDescente pour n =\",n,\"et nombreMax=\",it)\n",
        "    plt.figure()\n",
        "    plt.scatter(x, y)\n",
        "    plt.plot(x, p, c='r')\n",
        "    return O, c"
      ],
      "execution_count": 0,
      "outputs": []
    },
    {
      "cell_type": "code",
      "metadata": {
        "id": "Ul3yZl_TS3K-",
        "colab_type": "code",
        "colab": {
          "base_uri": "https://localhost:8080/",
          "height": 282
        },
        "outputId": "38b1e6b8-d6cc-4459-94bf-e935c7d12d1e"
      },
      "source": [
        "#----------------------------------------------------#\n",
        "## 3. Importez la fonction datasets.make_regression ##\n",
        "#----------------------------------------------------#\n",
        "np.random.seed(0)\n",
        "x, y = datasets.make_regression(n_samples=100, n_features=1, noise=10)\n",
        "y = y.reshape(y.shape[0], 1)\n",
        "X = np.hstack((x, np.ones(x.shape)))\n",
        "plt.scatter(x,y)"
      ],
      "execution_count": 310,
      "outputs": [
        {
          "output_type": "execute_result",
          "data": {
            "text/plain": [
              "<matplotlib.collections.PathCollection at 0x7f546ac4cf28>"
            ]
          },
          "metadata": {
            "tags": []
          },
          "execution_count": 310
        },
        {
          "output_type": "display_data",
          "data": {
            "image/png": "[encoded data removed]",
            "text/plain": [
              "<Figure size 432x288 with 1 Axes>"
            ]
          },
          "metadata": {
            "tags": []
          }
        }
      ]
    },
    {
      "cell_type": "code",
      "metadata": {
        "id": "-iSq5QfSN3LP",
        "colab_type": "code",
        "colab": {
          "base_uri": "https://localhost:8080/",
          "height": 282
        },
        "outputId": "e2f14bcb-4085-4e81-9f71-e14af8aca67c"
      },
      "source": [
        "#----------------------------------------#\n",
        "## 4. Affichez les coefficients trouvés ##\n",
        "#----------------------------------------#\n",
        "a,a1 = DG_R(X,y,0.001,100)"
      ],
      "execution_count": 311,
      "outputs": [
        {
          "output_type": "stream",
          "text": [
            "\tDescente pour n = 0.001 et nombreMax= 100\n"
          ],
          "name": "stdout"
        },
        {
          "output_type": "display_data",
          "data": {
            "image/png": "[encoded data removed]",
            "text/plain": [
              "<Figure size 432x288 with 1 Axes>"
            ]
          },
          "metadata": {
            "tags": []
          }
        }
      ]
    },
    {
      "cell_type": "code",
      "metadata": {
        "id": "0dI2UmxURbGj",
        "colab_type": "code",
        "colab": {
          "base_uri": "https://localhost:8080/",
          "height": 282
        },
        "outputId": "74c72f81-61bd-4244-cad6-13b4105dc8c6"
      },
      "source": [
        "b = DG_R(X,y,0.001,500)"
      ],
      "execution_count": 312,
      "outputs": [
        {
          "output_type": "stream",
          "text": [
            "\tDescente pour n = 0.001 et nombreMax= 500\n"
          ],
          "name": "stdout"
        },
        {
          "output_type": "display_data",
          "data": {
            "image/png": "[encoded data removed]",
            "text/plain": [
              "<Figure size 432x288 with 1 Axes>"
            ]
          },
          "metadata": {
            "tags": []
          }
        }
      ]
    },
    {
      "cell_type": "code",
      "metadata": {
        "id": "WstMtdihRbJm",
        "colab_type": "code",
        "colab": {
          "base_uri": "https://localhost:8080/",
          "height": 282
        },
        "outputId": "696e37ad-c0c5-44c2-ec53-8dc517b214bf"
      },
      "source": [
        "c = DG_R(X,y,0.001,1000)"
      ],
      "execution_count": 313,
      "outputs": [
        {
          "output_type": "stream",
          "text": [
            "\tDescente pour n = 0.001 et nombreMax= 1000\n"
          ],
          "name": "stdout"
        },
        {
          "output_type": "display_data",
          "data": {
            "image/png": "[encoded data removed]",
            "text/plain": [
              "<Figure size 432x288 with 1 Axes>"
            ]
          },
          "metadata": {
            "tags": []
          }
        }
      ]
    },
    {
      "cell_type": "code",
      "metadata": {
        "id": "nZcAqYFVRbMF",
        "colab_type": "code",
        "colab": {
          "base_uri": "https://localhost:8080/",
          "height": 282
        },
        "outputId": "f618fa60-1513-456d-a555-201b651ca18f"
      },
      "source": [
        "d = DG_R(X,y,0.01,1000)"
      ],
      "execution_count": 314,
      "outputs": [
        {
          "output_type": "stream",
          "text": [
            "\tDescente pour n = 0.01 et nombreMax= 1000\n"
          ],
          "name": "stdout"
        },
        {
          "output_type": "display_data",
          "data": {
            "image/png": "[encoded data removed]",
            "text/plain": [
              "<Figure size 432x288 with 1 Axes>"
            ]
          },
          "metadata": {
            "tags": []
          }
        }
      ]
    },
    {
      "cell_type": "code",
      "metadata": {
        "id": "BgH4-BlGRbRV",
        "colab_type": "code",
        "colab": {
          "base_uri": "https://localhost:8080/",
          "height": 282
        },
        "outputId": "bafac0c4-9492-470a-bd4b-320c71c4fedb"
      },
      "source": [
        "e,e1 =DG_R(X,y,1.0,1000)"
      ],
      "execution_count": 315,
      "outputs": [
        {
          "output_type": "stream",
          "text": [
            "\tDescente pour n = 1.0 et nombreMax= 1000\n"
          ],
          "name": "stdout"
        },
        {
          "output_type": "display_data",
          "data": {
            "image/png": "[encoded data removed]",
            "text/plain": [
              "<Figure size 432x288 with 1 Axes>"
            ]
          },
          "metadata": {
            "tags": []
          }
        }
      ]
    },
    {
      "cell_type": "code",
      "metadata": {
        "id": "p3dbNaXLTLnf",
        "colab_type": "code",
        "colab": {}
      },
      "source": [
        "#-----------------------------------------------------#\n",
        "## 5. Importez la fonction stats.linregress de scipy ##\n",
        "#-----------------------------------------------------#\n",
        "\n",
        "#slope, intercept, r_value, p_value, std_err = scipy.stats.linregress(e, e1)\n"
      ],
      "execution_count": 0,
      "outputs": []
    }
  ]
}