{
  "nbformat": 4,
  "nbformat_minor": 0,
  "metadata": {
    "colab": {
      "name": "TP1_SDN.ipynb",
      "provenance": [],
      "collapsed_sections": []
    },
    "kernelspec": {
      "name": "python3",
      "display_name": "Python 3"
    }
  },
  "cells": [
    {
      "cell_type": "code",
      "metadata": {
        "id": "cw4duohGHTCv",
        "colab_type": "code",
        "colab": {}
      },
      "source": [
        "# Mohamed BEN SAAD\n",
        "# Elias ABDELLI\n",
        "\n",
        "#####################################\n",
        "### A. Importation des libraires ####\n",
        "#####################################\n",
        "from sklearn.datasets.samples_generator import make_blobs\n",
        "from sklearn import *\n",
        "import numpy as np\n",
        "import matplotlib.pyplot as plt"
      ],
      "execution_count": 0,
      "outputs": []
    },
    {
      "cell_type": "code",
      "metadata": {
        "id": "41VP66aqHaEJ",
        "colab_type": "code",
        "colab": {}
      },
      "source": [
        "###########################################\n",
        "### B. Manipulation d’un jeu de données ###\n",
        "###########################################\n",
        "\n",
        "#---------------------------------------#\n",
        "##### 1- Chargez les données Iris : #####\n",
        "#---------------------------------------#\n",
        "iris = datasets.load_iris()     #Téléchargement des données\n",
        "data = iris.data                #Données\n",
        "var = iris.feature_names        #Noms des variables\n",
        "classe = iris.target_names      #Noms des classes"
      ],
      "execution_count": 0,
      "outputs": []
    },
    {
      "cell_type": "code",
      "metadata": {
        "id": "p8SxLLnRH0PI",
        "colab_type": "code",
        "outputId": "3de21ca7-6de6-43df-c477-746f329e221f",
        "colab": {
          "base_uri": "https://localhost:8080/",
          "height": 340
        }
      },
      "source": [
        "#----------------------------------------------------------------------------------------------#\n",
        "#### 2- Affichez les données, les noms des variables et le nom des classes (utilisez print) ####\n",
        "#----------------------------------------------------------------------------------------------#\n",
        "print('Données:\\n',data[:10]) #Affiche les 10 premières lignes des données\n",
        "print('\\n')\n",
        "print('Variables:\\n',var)     #Affiche les noms des variables\n",
        "print('\\n')\n",
        "print('Classes:\\n',classe)    #Affiche le nom des classes"
      ],
      "execution_count": 0,
      "outputs": [
        {
          "output_type": "stream",
          "text": [
            "Données:\n",
            " [[5.1 3.5 1.4 0.2]\n",
            " [4.9 3.  1.4 0.2]\n",
            " [4.7 3.2 1.3 0.2]\n",
            " [4.6 3.1 1.5 0.2]\n",
            " [5.  3.6 1.4 0.2]\n",
            " [5.4 3.9 1.7 0.4]\n",
            " [4.6 3.4 1.4 0.3]\n",
            " [5.  3.4 1.5 0.2]\n",
            " [4.4 2.9 1.4 0.2]\n",
            " [4.9 3.1 1.5 0.1]]\n",
            "\n",
            "\n",
            "Variables:\n",
            " ['sepal length (cm)', 'sepal width (cm)', 'petal length (cm)', 'petal width (cm)']\n",
            "\n",
            "\n",
            "Classes:\n",
            " ['setosa' 'versicolor' 'virginica']\n"
          ],
          "name": "stdout"
        }
      ]
    },
    {
      "cell_type": "code",
      "metadata": {
        "id": "pedD-k4ELP34",
        "colab_type": "code",
        "outputId": "178e0295-8b18-4301-af52-8769bf914a11",
        "colab": {
          "base_uri": "https://localhost:8080/",
          "height": 272
        }
      },
      "source": [
        "#-----------------------------------------------------#\n",
        "## 3- Affichez le nom des classes pour chaque donnée ##\n",
        "#-----------------------------------------------------#\n",
        "data_classe = iris.target\n",
        "size = iris.target.size\n",
        "\n",
        "for i in range(1,size,10):\n",
        "  print(data[i], classe[data_classe[i]])\n",
        "\n",
        "# Ici on affiche 5 exemples par classe pour évité trop d'affichage"
      ],
      "execution_count": 0,
      "outputs": [
        {
          "output_type": "stream",
          "text": [
            "[4.9 3.  1.4 0.2] setosa\n",
            "[4.8 3.4 1.6 0.2] setosa\n",
            "[5.1 3.7 1.5 0.4] setosa\n",
            "[5.4 3.4 1.5 0.4] setosa\n",
            "[4.5 2.3 1.3 0.3] setosa\n",
            "[6.4 3.2 4.5 1.5] versicolor\n",
            "[5.9 3.  4.2 1.5] versicolor\n",
            "[6.1 2.8 4.  1.3] versicolor\n",
            "[5.5 2.4 3.7 1. ] versicolor\n",
            "[6.1 3.  4.6 1.4] versicolor\n",
            "[5.8 2.7 5.1 1.9] virginica\n",
            "[6.4 2.7 5.3 1.9] virginica\n",
            "[5.6 2.8 4.9 2. ] virginica\n",
            "[7.9 3.8 6.4 2. ] virginica\n",
            "[6.9 3.1 5.1 2.3] virginica\n"
          ],
          "name": "stdout"
        }
      ]
    },
    {
      "cell_type": "code",
      "metadata": {
        "id": "ximy7tiFSgx7",
        "colab_type": "code",
        "outputId": "bbe3246e-724e-4607-bd4d-0b52e36da886",
        "colab": {
          "base_uri": "https://localhost:8080/",
          "height": 153
        }
      },
      "source": [
        "#--------------------------------------------------------------------------------------------#\n",
        "## 4- Affichez la moyenne (mean), l’ecart-type (std), le min et le max pour chaque variable ##\n",
        "#--------------------------------------------------------------------------------------------#\n",
        "print('Moyenne :\\n', iris.data.mean(0))\n",
        "print('Ecart-type :\\n', iris.data.std(0))\n",
        "print('Min :\\n', iris.data.min(0))\n",
        "print('Max :\\n', iris.data.max(0)) "
      ],
      "execution_count": 0,
      "outputs": [
        {
          "output_type": "stream",
          "text": [
            "Moyenne :\n",
            " [5.84333333 3.05733333 3.758      1.19933333]\n",
            "Ecart-type :\n",
            " [0.82530129 0.43441097 1.75940407 0.75969263]\n",
            "Min :\n",
            " [4.3 2.  1.  0.1]\n",
            "Max :\n",
            " [7.9 4.4 6.9 2.5]\n"
          ],
          "name": "stdout"
        }
      ]
    },
    {
      "cell_type": "code",
      "metadata": {
        "id": "Qj3PmtXUU_HN",
        "colab_type": "code",
        "outputId": "80ae3f9f-0c77-43ce-e1df-a938ab7f2381",
        "colab": {
          "base_uri": "https://localhost:8080/",
          "height": 119
        }
      },
      "source": [
        "#--------------------------------------------------------------------------------------------#\n",
        "## 5- En utilisant les attributs size et shape, affichez le nombre de données, le nombre de ##\n",
        "# ---------------------------- variables et le nombre de classes ----------------------------#\n",
        "#--------------------------------------------------------------------------------------------#\n",
        "print('NB Data :\\n', iris.data.shape[0])\n",
        "print('NB Variable :\\n', iris.data.shape[1])\n",
        "print('NB Classe :\\n', np.unique(iris.target).size)"
      ],
      "execution_count": 0,
      "outputs": [
        {
          "output_type": "stream",
          "text": [
            "NB Data :\n",
            " 150\n",
            "NB Variable :\n",
            " 4\n",
            "NB Classe :\n",
            " 3\n"
          ],
          "name": "stdout"
        }
      ]
    },
    {
      "cell_type": "code",
      "metadata": {
        "id": "xDbl7odTWczE",
        "colab_type": "code",
        "outputId": "986eab1d-4831-4b92-b3a8-56dfa1d4e70d",
        "colab": {
          "base_uri": "https://localhost:8080/",
          "height": 105
        }
      },
      "source": [
        "###############################################\n",
        "# C. Téléchargement et importation de données #\n",
        "###############################################\n",
        "\n",
        "#--------------------------------------------#\n",
        "## 1- Importez les données 'MNIST original' ##\n",
        "#--------------------------------------------#\n",
        "\n",
        "# Le datasets ne se télécharge pas...\n",
        "# mnist = datasets.fetch_mldata('MNIST original')\n",
        "# print('Données:\\n',mnist.data)\n",
        "# print('Variables:\\n',mnist.feature_names) \n",
        "# print('Classes:\\n',mnist.target_names)\n",
        "# print('Moyenne :\\n', mnist.data.mean(0))\n",
        "# print('Ecart-type :\\n', mnist.data.std(0))\n",
        "# print('Min :\\n', mnist.data.min(0))\n",
        "# print('Max :\\n', mnist.data.max(0))\n",
        "# print('NB Data :\\n', mnist.data.shape[0])\n",
        "# print('NB Variable :\\n', mnist.data.shape[1])\n",
        "# print('NB Classe :\\n', np.unique(mnist.target).size)"
      ],
      "execution_count": 0,
      "outputs": [
        {
          "output_type": "stream",
          "text": [
            "/usr/local/lib/python3.6/dist-packages/sklearn/utils/deprecation.py:85: DeprecationWarning: Function fetch_mldata is deprecated; fetch_mldata was deprecated in version 0.20 and will be removed in version 0.22. Please use fetch_openml.\n",
            "  warnings.warn(msg, category=DeprecationWarning)\n",
            "/usr/local/lib/python3.6/dist-packages/sklearn/utils/deprecation.py:85: DeprecationWarning: Function mldata_filename is deprecated; mldata_filename was deprecated in version 0.20 and will be removed in version 0.22. Please use fetch_openml.\n",
            "  warnings.warn(msg, category=DeprecationWarning)\n"
          ],
          "name": "stderr"
        }
      ]
    },
    {
      "cell_type": "code",
      "metadata": {
        "id": "zpBjVUDsYEkw",
        "colab_type": "code",
        "colab": {}
      },
      "source": [
        "#########################################\n",
        "# D. Génération de données et affichage #\n",
        "#########################################\n",
        "\n",
        "#----------------------------------------------------------------------------------------#\n",
        "## 1. Utiliser l’aide (help) pour voir comment utiliser la fonction datasets.make_blobs ##\n",
        "#----------------------------------------------------------------------------------------#\n",
        "help(make_blobs)"
      ],
      "execution_count": 0,
      "outputs": []
    },
    {
      "cell_type": "code",
      "metadata": {
        "id": "tprevCx7ZYf6",
        "colab_type": "code",
        "colab": {}
      },
      "source": [
        "# ==================================== #\n",
        "# Fonction d'affichage de Scatter plot #\n",
        "# ==================================== #\n",
        "def affichescatter(x,y,n,t):\n",
        "  color = ['red','blue','green','yellow']\n",
        "  plt.figure()\n",
        "  plt.title(t)\n",
        "  for i in range(n):\n",
        "    plt.scatter(x[i,0], x[i,1], c = color[y[i]], s = 20)\n",
        "  plt.xlim(-15,15)\n",
        "  plt.ylim(-15,15)\n",
        "  plt.xlabel('Features')\n",
        "  plt.ylabel('Value')\n",
        "  plt.show()"
      ],
      "execution_count": 0,
      "outputs": []
    },
    {
      "cell_type": "code",
      "metadata": {
        "id": "FaXmB8b8Y7L0",
        "colab_type": "code",
        "outputId": "45d251d6-25da-4a46-eeb7-615d66d85f5f",
        "colab": {
          "base_uri": "https://localhost:8080/",
          "height": 295
        }
      },
      "source": [
        "#--------------------------------------------------------------------#\n",
        "## 2. Générez 1000 données de deux variables réparties en 4 groupes ##\n",
        "#--------------------------------------------------------------------#\n",
        "x1,y1 = make_blobs(n_samples= 1000, n_features = 2, centers =4, cluster_std=0.60, random_state=0)\n",
        "t1 = 'Figure 1000'\n",
        "affichescatter(x1,y1,y1.size,t1)"
      ],
      "execution_count": 0,
      "outputs": [
        {
          "output_type": "display_data",
          "data": {
            "image/png": "[encoded data removed]",
            "text/plain": [
              "<Figure size 432x288 with 1 Axes>"
            ]
          },
          "metadata": {
            "tags": []
          }
        }
      ]
    },
    {
      "cell_type": "code",
      "metadata": {
        "id": "z59XZ_kXdhDK",
        "colab_type": "code",
        "outputId": "2c763287-b702-4c9a-f0ee-9fbfc2875329",
        "colab": {
          "base_uri": "https://localhost:8080/",
          "height": 295
        }
      },
      "source": [
        "#----------------------------------------------------------------#\n",
        "## Générez 100 données de deux variables réparties en 2 groupes ##\n",
        "#----------------------------------------------------------------#\n",
        "x2,y2 = make_blobs(n_samples= 100, n_features = 2, centers =2)\n",
        "t2='Figure 100'\n",
        "affichescatter(x2,y2,y2.size,t2)"
      ],
      "execution_count": 0,
      "outputs": [
        {
          "output_type": "display_data",
          "data": {
            "image/png": "[encoded data removed]",
            "text/plain": [
              "<Figure size 432x288 with 1 Axes>"
            ]
          },
          "metadata": {
            "tags": []
          }
        }
      ]
    },
    {
      "cell_type": "code",
      "metadata": {
        "id": "s01yBR1n4-wu",
        "colab_type": "code",
        "outputId": "8ec835fa-659e-4e21-f2a5-7d1ca912b2c9",
        "colab": {
          "base_uri": "https://localhost:8080/",
          "height": 295
        }
      },
      "source": [
        "#----------------------------------------------------------------#\n",
        "## Générez 500 données de deux variables réparties en 2 groupes ##\n",
        "#----------------------------------------------------------------#\n",
        "x3,y3 = make_blobs(n_samples= 500, n_features = 2, centers =3)\n",
        "t3='Figure 500'\n",
        "affichescatter(x3,y3,y3.size,t3)"
      ],
      "execution_count": 0,
      "outputs": [
        {
          "output_type": "display_data",
          "data": {
            "image/png": "[encoded data removed]",
            "text/plain": [
              "<Figure size 432x288 with 1 Axes>"
            ]
          },
          "metadata": {
            "tags": []
          }
        }
      ]
    },
    {
      "cell_type": "code",
      "metadata": {
        "id": "zcZA258v4-vH",
        "colab_type": "code",
        "outputId": "beec5f92-f40e-4d53-c13e-89a2b7d7529d",
        "colab": {
          "base_uri": "https://localhost:8080/",
          "height": 295
        }
      },
      "source": [
        "#----------------------------------------------------------#\n",
        "## Concaténez (vstack et hstack) les deux jeux de données ##\n",
        "#----------------------------------------------------------#\n",
        "x4,y4 = np.vstack((x2,x3)), np.hstack((y2,y3))\n",
        "t4='Figure 100 + Figure 500'\n",
        "affichescatter(x4,y4,y4.size,t4)"
      ],
      "execution_count": 0,
      "outputs": [
        {
          "output_type": "display_data",
          "data": {
            "image/png": "[encoded data removed]",
            "text/plain": [
              "<Figure size 432x288 with 1 Axes>"
            ]
          },
          "metadata": {
            "tags": []
          }
        }
      ]
    }
  ]
}