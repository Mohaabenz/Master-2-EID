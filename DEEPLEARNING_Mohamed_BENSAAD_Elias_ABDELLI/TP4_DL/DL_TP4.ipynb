{
  "nbformat": 4,
  "nbformat_minor": 0,
  "metadata": {
    "colab": {
      "name": "DL_TP4.ipynb",
      "provenance": [],
      "collapsed_sections": []
    },
    "kernelspec": {
      "name": "python3",
      "display_name": "Python 3"
    }
  },
  "cells": [
    {
      "cell_type": "code",
      "metadata": {
        "id": "S9dfq3-OAHkr",
        "colab_type": "code",
        "colab": {},
        "cellView": "form"
      },
      "source": [
        "#@title Autors Mohamed BEN SAAD & Elias ABDELLI"
      ],
      "execution_count": 0,
      "outputs": []
    },
    {
      "cell_type": "code",
      "metadata": {
        "id": "-qZo1EolPfpA",
        "colab_type": "code",
        "cellView": "both",
        "colab": {}
      },
      "source": [
        "#@title Importation Library \n",
        "import  numpy as np\n",
        "import matplotlib.pyplot as plt\n",
        "import sklearn.datasets\n",
        "from sklearn import decomposition\n",
        "from tensorflow import keras\n",
        "from tensorflow.keras import layers"
      ],
      "execution_count": 0,
      "outputs": []
    },
    {
      "cell_type": "code",
      "metadata": {
        "id": "M11nLruFXLwO",
        "colab_type": "code",
        "cellView": "code",
        "colab": {}
      },
      "source": [
        "#@title Model_exec\n",
        "def Model_exec(batch_size, nbr_neural, epochs, activation_function='relu', output_activation=False):\n",
        "  inputs = keras.Input(shape=(784,), name='digits')\n",
        "  x = layers.Dense(nbr_neural, activation=activation_function, name='dense_1')(inputs)\n",
        "  if output_activation : \n",
        "    outputs = layers.Dense(10,activation=output_activation, name='predictions')(x)\n",
        "  else:\n",
        "    outputs = layers.Dense(10, name='predictions')(x)\n",
        "  model = keras.Model(inputs=inputs, outputs=outputs)\n",
        "  (x_train, y_train), (x_test, y_test) = keras.datasets.mnist.load_data()\n",
        "  x_train = x_train.reshape(60000, 784).astype('float32') / 255\n",
        "  x_test = x_test.reshape(10000, 784).astype('float32') / 255\n",
        "  y_train = y_train.astype('float32')\n",
        "  y_test = y_test.astype('float32')\n",
        "  x_val = x_train[-10000:]\n",
        "  y_val = y_train[-10000:]\n",
        "  x_train = x_train[:-10000]\n",
        "  y_train = y_train[:-10000]\n",
        "  model.compile(optimizer=keras.optimizers.RMSprop(learning_rate=1),  # Optimizer\n",
        "                # Loss function to minimize\n",
        "                loss=keras.losses.SparseCategoricalCrossentropy(from_logits=True),\n",
        "                # List of metrics to monitor\n",
        "                metrics=['sparse_categorical_accuracy'])\n",
        "  print('# Fit model on training data')\n",
        "  history = model.fit(x_train, y_train,\n",
        "                      batch_size=batch_size,\n",
        "                      epochs=epochs,\n",
        "                      validation_data=(x_val, y_val))\n",
        "  print('history dict:', history.history)"
      ],
      "execution_count": 0,
      "outputs": []
    },
    {
      "cell_type": "code",
      "metadata": {
        "id": "ErLtpAhaXcwu",
        "colab_type": "code",
        "cellView": "both",
        "outputId": "e58e3354-5e4a-4302-fc61-ddc5bbe936b9",
        "colab": {
          "base_uri": "https://localhost:8080/",
          "height": 137
        }
      },
      "source": [
        "#@title Sigmoid 100 neurones\n",
        "Model_exec(nbr_neural=100,batch_size=100,epochs=1, activation_function='sigmoid')"
      ],
      "execution_count": 3,
      "outputs": [
        {
          "output_type": "stream",
          "text": [
            "Downloading data from https://storage.googleapis.com/tensorflow/tf-keras-datasets/mnist.npz\n",
            "11493376/11490434 [==============================] - 0s 0us/step\n",
            "# Fit model on training data\n",
            "500/500 [==============================] - 2s 3ms/step - loss: 13.2863 - sparse_categorical_accuracy: 0.5317 - val_loss: 6.0941 - val_sparse_categorical_accuracy: 0.7026\n",
            "\n",
            "history dict: {'loss': [13.286271095275879], 'sparse_categorical_accuracy': [0.5317000150680542], 'val_loss': [6.094098091125488], 'val_sparse_categorical_accuracy': [0.7026000022888184]}\n"
          ],
          "name": "stdout"
        }
      ]
    },
    {
      "cell_type": "code",
      "metadata": {
        "id": "a0w73vVBe_rM",
        "colab_type": "code",
        "cellView": "both",
        "outputId": "bf29aaa8-0766-44f5-90c3-c8fa81a33067",
        "colab": {
          "base_uri": "https://localhost:8080/",
          "height": 255
        }
      },
      "source": [
        "#@title Outputsoftmax 5 Iterations\n",
        "Model_exec(nbr_neural=20 ,batch_size=1000,epochs=5, output_Activation_function='softmax' , activation_function='sigmoid')"
      ],
      "execution_count": 4,
      "outputs": [
        {
          "output_type": "stream",
          "text": [
            "# Fit model on training data\n",
            "Epoch 1/5\n",
            "50/50 [==============================] - 0s 8ms/step - loss: 2.1987 - sparse_categorical_accuracy: 0.2568 - val_loss: 2.1683 - val_sparse_categorical_accuracy: 0.2863\n",
            "Epoch 2/5\n",
            "50/50 [==============================] - 0s 7ms/step - loss: 2.1687 - sparse_categorical_accuracy: 0.2899 - val_loss: 2.1663 - val_sparse_categorical_accuracy: 0.2941\n",
            "Epoch 3/5\n",
            "50/50 [==============================] - 0s 7ms/step - loss: 2.1657 - sparse_categorical_accuracy: 0.2940 - val_loss: 2.1684 - val_sparse_categorical_accuracy: 0.2916\n",
            "Epoch 4/5\n",
            "50/50 [==============================] - 0s 7ms/step - loss: 2.1638 - sparse_categorical_accuracy: 0.2968 - val_loss: 2.1704 - val_sparse_categorical_accuracy: 0.2906\n",
            "Epoch 5/5\n",
            "50/50 [==============================] - 0s 7ms/step - loss: 2.1619 - sparse_categorical_accuracy: 0.2983 - val_loss: 2.1658 - val_sparse_categorical_accuracy: 0.2950\n",
            "\n",
            "history dict: {'loss': [2.1986594200134277, 2.1686716079711914, 2.165654182434082, 2.163766860961914, 2.1618869304656982], 'sparse_categorical_accuracy': [0.2568199932575226, 0.28992000222206116, 0.2940399944782257, 0.2967599928379059, 0.2983199954032898], 'val_loss': [2.1682753562927246, 2.1663079261779785, 2.1684319972991943, 2.170440196990967, 2.1657702922821045], 'val_sparse_categorical_accuracy': [0.28630000352859497, 0.29409998655319214, 0.29159998893737793, 0.2906000018119812, 0.29499998688697815]}\n"
          ],
          "name": "stdout"
        }
      ]
    },
    {
      "cell_type": "code",
      "metadata": {
        "id": "S4_x4LkSi5S6",
        "colab_type": "code",
        "cellView": "both",
        "outputId": "f7e049db-bd6c-496d-d727-3aec798a34c0",
        "colab": {
          "base_uri": "https://localhost:8080/",
          "height": 759
        }
      },
      "source": [
        "#@title Outputsoftmax 20 Iterations\n",
        "Model_exec(nbr_neural=20 ,batch_size=1000,epochs=20, output_Activation_function='softmax' , activation_function='sigmoid')"
      ],
      "execution_count": 5,
      "outputs": [
        {
          "output_type": "stream",
          "text": [
            "# Fit model on training data\n",
            "Epoch 1/20\n",
            "50/50 [==============================] - 0s 9ms/step - loss: 2.2316 - sparse_categorical_accuracy: 0.2258 - val_loss: 2.1837 - val_sparse_categorical_accuracy: 0.2709\n",
            "Epoch 2/20\n",
            "50/50 [==============================] - 0s 7ms/step - loss: 2.1892 - sparse_categorical_accuracy: 0.2700 - val_loss: 2.1879 - val_sparse_categorical_accuracy: 0.2708\n",
            "Epoch 3/20\n",
            "50/50 [==============================] - 0s 7ms/step - loss: 2.1760 - sparse_categorical_accuracy: 0.2835 - val_loss: 2.1672 - val_sparse_categorical_accuracy: 0.2923\n",
            "Epoch 4/20\n",
            "50/50 [==============================] - 0s 7ms/step - loss: 2.1712 - sparse_categorical_accuracy: 0.2887 - val_loss: 2.1709 - val_sparse_categorical_accuracy: 0.2900\n",
            "Epoch 5/20\n",
            "50/50 [==============================] - 0s 7ms/step - loss: 2.1764 - sparse_categorical_accuracy: 0.2834 - val_loss: 2.1746 - val_sparse_categorical_accuracy: 0.2863\n",
            "Epoch 6/20\n",
            "50/50 [==============================] - 0s 7ms/step - loss: 2.1739 - sparse_categorical_accuracy: 0.2861 - val_loss: 2.1727 - val_sparse_categorical_accuracy: 0.2860\n",
            "Epoch 7/20\n",
            "50/50 [==============================] - 0s 7ms/step - loss: 2.1694 - sparse_categorical_accuracy: 0.2907 - val_loss: 2.1669 - val_sparse_categorical_accuracy: 0.2935\n",
            "Epoch 8/20\n",
            "50/50 [==============================] - 0s 7ms/step - loss: 2.1687 - sparse_categorical_accuracy: 0.2914 - val_loss: 2.1666 - val_sparse_categorical_accuracy: 0.2944\n",
            "Epoch 9/20\n",
            "50/50 [==============================] - 0s 7ms/step - loss: 2.1665 - sparse_categorical_accuracy: 0.2939 - val_loss: 2.1718 - val_sparse_categorical_accuracy: 0.2883\n",
            "Epoch 10/20\n",
            "50/50 [==============================] - 0s 7ms/step - loss: 2.1690 - sparse_categorical_accuracy: 0.2913 - val_loss: 2.1952 - val_sparse_categorical_accuracy: 0.2655\n",
            "Epoch 11/20\n",
            "50/50 [==============================] - 0s 7ms/step - loss: 2.1717 - sparse_categorical_accuracy: 0.2889 - val_loss: 2.1773 - val_sparse_categorical_accuracy: 0.2836\n",
            "Epoch 12/20\n",
            "50/50 [==============================] - 0s 7ms/step - loss: 2.1639 - sparse_categorical_accuracy: 0.2967 - val_loss: 2.1710 - val_sparse_categorical_accuracy: 0.2902\n",
            "Epoch 13/20\n",
            "50/50 [==============================] - 0s 7ms/step - loss: 2.1684 - sparse_categorical_accuracy: 0.2920 - val_loss: 2.1711 - val_sparse_categorical_accuracy: 0.2895\n",
            "Epoch 14/20\n",
            "50/50 [==============================] - 0s 7ms/step - loss: 2.1668 - sparse_categorical_accuracy: 0.2939 - val_loss: 2.1763 - val_sparse_categorical_accuracy: 0.2831\n",
            "Epoch 15/20\n",
            "50/50 [==============================] - 0s 7ms/step - loss: 2.1665 - sparse_categorical_accuracy: 0.2942 - val_loss: 2.1702 - val_sparse_categorical_accuracy: 0.2911\n",
            "Epoch 16/20\n",
            "50/50 [==============================] - 0s 7ms/step - loss: 2.1654 - sparse_categorical_accuracy: 0.2955 - val_loss: 2.1709 - val_sparse_categorical_accuracy: 0.2899\n",
            "Epoch 17/20\n",
            "50/50 [==============================] - 0s 7ms/step - loss: 2.1673 - sparse_categorical_accuracy: 0.2933 - val_loss: 2.1675 - val_sparse_categorical_accuracy: 0.2933\n",
            "Epoch 18/20\n",
            "50/50 [==============================] - 0s 7ms/step - loss: 2.1651 - sparse_categorical_accuracy: 0.2954 - val_loss: 2.1748 - val_sparse_categorical_accuracy: 0.2862\n",
            "Epoch 19/20\n",
            "50/50 [==============================] - 0s 7ms/step - loss: 2.1647 - sparse_categorical_accuracy: 0.2960 - val_loss: 2.1654 - val_sparse_categorical_accuracy: 0.2958\n",
            "Epoch 20/20\n",
            "50/50 [==============================] - 0s 7ms/step - loss: 2.1652 - sparse_categorical_accuracy: 0.2956 - val_loss: 2.1728 - val_sparse_categorical_accuracy: 0.2882\n",
            "\n",
            "history dict: {'loss': [2.2316150665283203, 2.1891591548919678, 2.175989866256714, 2.1711812019348145, 2.1764109134674072, 2.173919916152954, 2.1694257259368896, 2.1687376499176025, 2.1665306091308594, 2.168964147567749, 2.171720027923584, 2.1638877391815186, 2.168368101119995, 2.166764259338379, 2.166459560394287, 2.1653568744659424, 2.1673433780670166, 2.16505765914917, 2.1646578311920166, 2.1651623249053955], 'sparse_categorical_accuracy': [0.22575999796390533, 0.27004000544548035, 0.2834799885749817, 0.2887200117111206, 0.2833999991416931, 0.2861199975013733, 0.2906799912452698, 0.29137998819351196, 0.2939000129699707, 0.29128000140190125, 0.28887999057769775, 0.2967199981212616, 0.2919600009918213, 0.29392001032829285, 0.29420000314712524, 0.2955000102519989, 0.29326000809669495, 0.29541999101638794, 0.295960009098053, 0.29561999440193176], 'val_loss': [2.18371319770813, 2.1878821849823, 2.167233943939209, 2.17087984085083, 2.1745829582214355, 2.1727187633514404, 2.1669111251831055, 2.166593074798584, 2.1717658042907715, 2.1951515674591064, 2.1772561073303223, 2.1710104942321777, 2.171072244644165, 2.176267385482788, 2.170164108276367, 2.170926094055176, 2.1675424575805664, 2.1747939586639404, 2.165370464324951, 2.172830104827881], 'val_sparse_categorical_accuracy': [0.27090001106262207, 0.27079999446868896, 0.2922999858856201, 0.28999999165534973, 0.28630000352859497, 0.28600001335144043, 0.29350000619888306, 0.29440000653266907, 0.2883000075817108, 0.265500009059906, 0.28360000252723694, 0.29019999504089355, 0.28949999809265137, 0.2831000089645386, 0.29109999537467957, 0.289900004863739, 0.29330000281333923, 0.28619998693466187, 0.29580000042915344, 0.2881999909877777]}\n"
          ],
          "name": "stdout"
        }
      ]
    },
    {
      "cell_type": "code",
      "metadata": {
        "id": "iBNvyfI4i9VX",
        "colab_type": "code",
        "cellView": "both",
        "outputId": "057b3ae1-05c2-474f-97cf-53382ec1efe1",
        "colab": {
          "base_uri": "https://localhost:8080/",
          "height": 1000
        }
      },
      "source": [
        "#@title Outputsoftmax 50 Iterations\n",
        "Model_exec(nbr_neural=20 ,batch_size=1000,epochs=50, output_Activation_function='softmax' , activation_function='sigmoid')"
      ],
      "execution_count": 6,
      "outputs": [
        {
          "output_type": "stream",
          "text": [
            "# Fit model on training data\n",
            "Epoch 1/50\n",
            "50/50 [==============================] - 0s 9ms/step - loss: 2.2851 - sparse_categorical_accuracy: 0.1726 - val_loss: 2.2768 - val_sparse_categorical_accuracy: 0.1838\n",
            "Epoch 2/50\n",
            "50/50 [==============================] - 0s 7ms/step - loss: 2.2694 - sparse_categorical_accuracy: 0.1902 - val_loss: 2.2721 - val_sparse_categorical_accuracy: 0.1886\n",
            "Epoch 3/50\n",
            "50/50 [==============================] - 0s 7ms/step - loss: 2.2687 - sparse_categorical_accuracy: 0.1915 - val_loss: 2.2692 - val_sparse_categorical_accuracy: 0.1874\n",
            "Epoch 4/50\n",
            "50/50 [==============================] - 0s 7ms/step - loss: 2.2233 - sparse_categorical_accuracy: 0.2366 - val_loss: 2.2311 - val_sparse_categorical_accuracy: 0.2322\n",
            "Epoch 5/50\n",
            "50/50 [==============================] - 0s 7ms/step - loss: 2.1880 - sparse_categorical_accuracy: 0.2719 - val_loss: 2.1773 - val_sparse_categorical_accuracy: 0.2838\n",
            "Epoch 6/50\n",
            "50/50 [==============================] - 0s 7ms/step - loss: 2.1814 - sparse_categorical_accuracy: 0.2787 - val_loss: 2.1765 - val_sparse_categorical_accuracy: 0.2836\n",
            "Epoch 7/50\n",
            "50/50 [==============================] - 0s 7ms/step - loss: 2.1847 - sparse_categorical_accuracy: 0.2754 - val_loss: 2.1946 - val_sparse_categorical_accuracy: 0.2652\n",
            "Epoch 8/50\n",
            "50/50 [==============================] - 0s 7ms/step - loss: 2.1843 - sparse_categorical_accuracy: 0.2764 - val_loss: 2.1766 - val_sparse_categorical_accuracy: 0.2840\n",
            "Epoch 9/50\n",
            "50/50 [==============================] - 0s 7ms/step - loss: 2.1818 - sparse_categorical_accuracy: 0.2789 - val_loss: 2.1766 - val_sparse_categorical_accuracy: 0.2838\n",
            "Epoch 10/50\n",
            "50/50 [==============================] - 0s 7ms/step - loss: 2.1805 - sparse_categorical_accuracy: 0.2800 - val_loss: 2.2216 - val_sparse_categorical_accuracy: 0.2394\n",
            "Epoch 11/50\n",
            "50/50 [==============================] - 0s 8ms/step - loss: 2.1863 - sparse_categorical_accuracy: 0.2743 - val_loss: 2.1749 - val_sparse_categorical_accuracy: 0.2860\n",
            "Epoch 12/50\n",
            "50/50 [==============================] - 0s 7ms/step - loss: 2.1738 - sparse_categorical_accuracy: 0.2869 - val_loss: 2.1745 - val_sparse_categorical_accuracy: 0.2864\n",
            "Epoch 13/50\n",
            "50/50 [==============================] - 0s 7ms/step - loss: 2.1768 - sparse_categorical_accuracy: 0.2840 - val_loss: 2.1761 - val_sparse_categorical_accuracy: 0.2849\n",
            "Epoch 14/50\n",
            "50/50 [==============================] - 0s 7ms/step - loss: 2.1874 - sparse_categorical_accuracy: 0.2734 - val_loss: 2.1834 - val_sparse_categorical_accuracy: 0.2776\n",
            "Epoch 15/50\n",
            "50/50 [==============================] - 0s 7ms/step - loss: 2.1766 - sparse_categorical_accuracy: 0.2839 - val_loss: 2.1761 - val_sparse_categorical_accuracy: 0.2848\n",
            "Epoch 16/50\n",
            "50/50 [==============================] - 0s 7ms/step - loss: 2.1758 - sparse_categorical_accuracy: 0.2850 - val_loss: 2.1793 - val_sparse_categorical_accuracy: 0.2807\n",
            "Epoch 17/50\n",
            "50/50 [==============================] - 0s 7ms/step - loss: 2.1814 - sparse_categorical_accuracy: 0.2792 - val_loss: 2.1814 - val_sparse_categorical_accuracy: 0.2796\n",
            "Epoch 18/50\n",
            "50/50 [==============================] - 0s 7ms/step - loss: 2.1791 - sparse_categorical_accuracy: 0.2815 - val_loss: 2.1778 - val_sparse_categorical_accuracy: 0.2834\n",
            "Epoch 19/50\n",
            "50/50 [==============================] - 0s 7ms/step - loss: 2.1763 - sparse_categorical_accuracy: 0.2845 - val_loss: 2.1760 - val_sparse_categorical_accuracy: 0.2842\n",
            "Epoch 20/50\n",
            "50/50 [==============================] - 0s 7ms/step - loss: 2.1801 - sparse_categorical_accuracy: 0.2807 - val_loss: 2.1854 - val_sparse_categorical_accuracy: 0.2756\n",
            "Epoch 21/50\n",
            "50/50 [==============================] - 0s 7ms/step - loss: 2.1897 - sparse_categorical_accuracy: 0.2711 - val_loss: 2.2173 - val_sparse_categorical_accuracy: 0.2451\n",
            "Epoch 22/50\n",
            "50/50 [==============================] - 0s 7ms/step - loss: 2.1826 - sparse_categorical_accuracy: 0.2783 - val_loss: 2.1833 - val_sparse_categorical_accuracy: 0.2780\n",
            "Epoch 23/50\n",
            "50/50 [==============================] - 0s 7ms/step - loss: 2.1797 - sparse_categorical_accuracy: 0.2809 - val_loss: 2.1756 - val_sparse_categorical_accuracy: 0.2854\n",
            "Epoch 24/50\n",
            "50/50 [==============================] - 0s 7ms/step - loss: 2.1800 - sparse_categorical_accuracy: 0.2808 - val_loss: 2.1759 - val_sparse_categorical_accuracy: 0.2852\n",
            "Epoch 25/50\n",
            "50/50 [==============================] - 0s 7ms/step - loss: 2.1784 - sparse_categorical_accuracy: 0.2826 - val_loss: 2.1851 - val_sparse_categorical_accuracy: 0.2760\n",
            "Epoch 26/50\n",
            "50/50 [==============================] - 0s 7ms/step - loss: 2.1825 - sparse_categorical_accuracy: 0.2784 - val_loss: 2.1746 - val_sparse_categorical_accuracy: 0.2865\n",
            "Epoch 27/50\n",
            "50/50 [==============================] - 0s 7ms/step - loss: 2.1784 - sparse_categorical_accuracy: 0.2825 - val_loss: 2.1802 - val_sparse_categorical_accuracy: 0.2809\n",
            "Epoch 28/50\n",
            "50/50 [==============================] - 0s 7ms/step - loss: 2.1819 - sparse_categorical_accuracy: 0.2791 - val_loss: 2.1779 - val_sparse_categorical_accuracy: 0.2832\n",
            "Epoch 29/50\n",
            "50/50 [==============================] - 0s 7ms/step - loss: 2.1832 - sparse_categorical_accuracy: 0.2779 - val_loss: 2.1903 - val_sparse_categorical_accuracy: 0.2708\n",
            "Epoch 30/50\n",
            "50/50 [==============================] - 0s 7ms/step - loss: 2.1854 - sparse_categorical_accuracy: 0.2757 - val_loss: 2.1869 - val_sparse_categorical_accuracy: 0.2742\n",
            "Epoch 31/50\n",
            "50/50 [==============================] - 0s 7ms/step - loss: 2.1826 - sparse_categorical_accuracy: 0.2785 - val_loss: 2.1818 - val_sparse_categorical_accuracy: 0.2793\n",
            "Epoch 32/50\n",
            "50/50 [==============================] - 0s 10ms/step - loss: 2.1875 - sparse_categorical_accuracy: 0.2735 - val_loss: 2.1798 - val_sparse_categorical_accuracy: 0.2813\n",
            "Epoch 33/50\n",
            "50/50 [==============================] - 0s 7ms/step - loss: 2.1818 - sparse_categorical_accuracy: 0.2791 - val_loss: 2.1748 - val_sparse_categorical_accuracy: 0.2861\n",
            "Epoch 34/50\n",
            "50/50 [==============================] - 0s 7ms/step - loss: 2.1730 - sparse_categorical_accuracy: 0.2880 - val_loss: 2.1763 - val_sparse_categorical_accuracy: 0.2848\n",
            "Epoch 35/50\n",
            "50/50 [==============================] - 0s 7ms/step - loss: 2.1739 - sparse_categorical_accuracy: 0.2872 - val_loss: 2.1754 - val_sparse_categorical_accuracy: 0.2856\n",
            "Epoch 36/50\n",
            "50/50 [==============================] - 0s 7ms/step - loss: 2.1757 - sparse_categorical_accuracy: 0.2853 - val_loss: 2.1762 - val_sparse_categorical_accuracy: 0.2849\n",
            "Epoch 37/50\n",
            "50/50 [==============================] - 0s 7ms/step - loss: 2.1832 - sparse_categorical_accuracy: 0.2777 - val_loss: 2.1793 - val_sparse_categorical_accuracy: 0.2811\n",
            "Epoch 38/50\n",
            "50/50 [==============================] - 0s 7ms/step - loss: 2.1792 - sparse_categorical_accuracy: 0.2817 - val_loss: 2.1765 - val_sparse_categorical_accuracy: 0.2846\n",
            "Epoch 39/50\n",
            "50/50 [==============================] - 0s 8ms/step - loss: 2.1737 - sparse_categorical_accuracy: 0.2873 - val_loss: 2.1743 - val_sparse_categorical_accuracy: 0.2868\n",
            "Epoch 40/50\n",
            "50/50 [==============================] - 0s 8ms/step - loss: 2.1749 - sparse_categorical_accuracy: 0.2861 - val_loss: 2.1785 - val_sparse_categorical_accuracy: 0.2826\n",
            "Epoch 41/50\n",
            "50/50 [==============================] - 0s 7ms/step - loss: 2.1768 - sparse_categorical_accuracy: 0.2846 - val_loss: 2.1780 - val_sparse_categorical_accuracy: 0.2831\n",
            "Epoch 42/50\n",
            "50/50 [==============================] - 0s 7ms/step - loss: 2.1773 - sparse_categorical_accuracy: 0.2837 - val_loss: 2.1784 - val_sparse_categorical_accuracy: 0.2826\n",
            "Epoch 43/50\n",
            "50/50 [==============================] - 0s 7ms/step - loss: 2.1764 - sparse_categorical_accuracy: 0.2846 - val_loss: 2.1804 - val_sparse_categorical_accuracy: 0.2806\n",
            "Epoch 44/50\n",
            "50/50 [==============================] - 0s 7ms/step - loss: 2.1796 - sparse_categorical_accuracy: 0.2815 - val_loss: 2.1819 - val_sparse_categorical_accuracy: 0.2792\n",
            "Epoch 45/50\n",
            "50/50 [==============================] - 0s 7ms/step - loss: 2.1753 - sparse_categorical_accuracy: 0.2859 - val_loss: 2.1744 - val_sparse_categorical_accuracy: 0.2867\n",
            "Epoch 46/50\n",
            "50/50 [==============================] - 0s 7ms/step - loss: 2.1742 - sparse_categorical_accuracy: 0.2870 - val_loss: 2.1757 - val_sparse_categorical_accuracy: 0.2851\n",
            "Epoch 47/50\n",
            "50/50 [==============================] - 0s 7ms/step - loss: 2.1743 - sparse_categorical_accuracy: 0.2868 - val_loss: 2.1774 - val_sparse_categorical_accuracy: 0.2837\n",
            "Epoch 48/50\n",
            "50/50 [==============================] - 0s 7ms/step - loss: 2.1814 - sparse_categorical_accuracy: 0.2797 - val_loss: 2.1787 - val_sparse_categorical_accuracy: 0.2824\n",
            "Epoch 49/50\n",
            "50/50 [==============================] - 0s 7ms/step - loss: 2.1798 - sparse_categorical_accuracy: 0.2813 - val_loss: 2.1750 - val_sparse_categorical_accuracy: 0.2861\n",
            "Epoch 50/50\n",
            "50/50 [==============================] - 0s 7ms/step - loss: 2.1749 - sparse_categorical_accuracy: 0.2861 - val_loss: 2.1758 - val_sparse_categorical_accuracy: 0.2853\n",
            "\n",
            "history dict: {'loss': [2.285062313079834, 2.269381046295166, 2.268730878829956, 2.223281145095825, 2.1880276203155518, 2.181415319442749, 2.1847448348999023, 2.184297800064087, 2.1817681789398193, 2.1805460453033447, 2.1862688064575195, 2.173813581466675, 2.176792860031128, 2.1874454021453857, 2.176612615585327, 2.1757709980010986, 2.1813786029815674, 2.17912220954895, 2.176250696182251, 2.1800894737243652, 2.1897130012512207, 2.1826047897338867, 2.1796936988830566, 2.17995548248291, 2.178412675857544, 2.18245005607605, 2.1784422397613525, 2.181851387023926, 2.1832306385040283, 2.18538761138916, 2.1825661659240723, 2.187466621398926, 2.1818394660949707, 2.1730170249938965, 2.173933982849121, 2.1756601333618164, 2.1831555366516113, 2.1791505813598633, 2.173712968826294, 2.174868106842041, 2.1767618656158447, 2.177255392074585, 2.1763906478881836, 2.1795849800109863, 2.1752777099609375, 2.174154281616211, 2.1743249893188477, 2.181406021118164, 2.1798155307769775, 2.174936294555664], 'sparse_categorical_accuracy': [0.17258000373840332, 0.19021999835968018, 0.19152000546455383, 0.2365799993276596, 0.2718999981880188, 0.2787199914455414, 0.27542001008987427, 0.27636000514030457, 0.27893999218940735, 0.28001999855041504, 0.27428001165390015, 0.2869200110435486, 0.28398001194000244, 0.27344000339508057, 0.28393998742103577, 0.2850399911403656, 0.2792400121688843, 0.2814599871635437, 0.2844800055027008, 0.2806999981403351, 0.2711000144481659, 0.27827998995780945, 0.2808600068092346, 0.2808400094509125, 0.2825799882411957, 0.27838000655174255, 0.2824999988079071, 0.27908000349998474, 0.27785998582839966, 0.2756800055503845, 0.2785399854183197, 0.2734600007534027, 0.2790600061416626, 0.2879999876022339, 0.28718000650405884, 0.2852799892425537, 0.2777000069618225, 0.2817400097846985, 0.2872599959373474, 0.28606000542640686, 0.2845799922943115, 0.28374001383781433, 0.2846199870109558, 0.28148001432418823, 0.28591999411582947, 0.286980003118515, 0.2867799997329712, 0.2797200083732605, 0.2812800109386444, 0.2861199975013733], 'val_loss': [2.276772975921631, 2.2721431255340576, 2.2691733837127686, 2.2311367988586426, 2.1772592067718506, 2.1765124797821045, 2.1945602893829346, 2.17655086517334, 2.1766250133514404, 2.221595287322998, 2.1748876571655273, 2.1745009422302246, 2.176131248474121, 2.183359146118164, 2.1761176586151123, 2.1793320178985596, 2.181387424468994, 2.1777706146240234, 2.1760036945343018, 2.1853861808776855, 2.217311143875122, 2.183255434036255, 2.175633668899536, 2.175936222076416, 2.185094118118286, 2.17460298538208, 2.1801981925964355, 2.1779465675354004, 2.1903042793273926, 2.186927318572998, 2.1818413734436035, 2.1798412799835205, 2.1748085021972656, 2.176292896270752, 2.1754462718963623, 2.176239490509033, 2.1792614459991455, 2.1765429973602295, 2.174345016479492, 2.1784873008728027, 2.1779773235321045, 2.1784422397613525, 2.1804277896881104, 2.1818854808807373, 2.1744351387023926, 2.17573881149292, 2.1774392127990723, 2.1787445545196533, 2.1750082969665527, 2.1758296489715576], 'val_sparse_categorical_accuracy': [0.18379999697208405, 0.18860000371932983, 0.1873999983072281, 0.2321999967098236, 0.28380000591278076, 0.28360000252723694, 0.2651999890804291, 0.2840000092983246, 0.28380000591278076, 0.2393999993801117, 0.28600001335144043, 0.2863999903202057, 0.2849000096321106, 0.2775999903678894, 0.2847999930381775, 0.2806999981403351, 0.27959999442100525, 0.2833999991416931, 0.2842000126838684, 0.27559998631477356, 0.2451000064611435, 0.27799999713897705, 0.28540000319480896, 0.28519999980926514, 0.2759999930858612, 0.2865000069141388, 0.2809000015258789, 0.2831999957561493, 0.27079999446868896, 0.2741999924182892, 0.2793000042438507, 0.28130000829696655, 0.28610000014305115, 0.2847999930381775, 0.2856000065803528, 0.2849000096321106, 0.28110000491142273, 0.28459998965263367, 0.28679999709129333, 0.2825999855995178, 0.2831000089645386, 0.2825999855995178, 0.28060001134872437, 0.2791999876499176, 0.2867000102996826, 0.2851000130176544, 0.28369998931884766, 0.2824000120162964, 0.28610000014305115, 0.28529998660087585]}\n"
          ],
          "name": "stdout"
        }
      ]
    },
    {
      "cell_type": "code",
      "metadata": {
        "id": "maXkXyqnfRR-",
        "colab_type": "code",
        "colab": {}
      },
      "source": [
        "#@title Importation Pour AutoEncoder \n",
        "from tensorflow.keras.layers import Dense, Input\n",
        "from tensorflow.keras.layers import Conv2D, Flatten\n",
        "from tensorflow.keras.layers import Reshape, Conv2DTranspose\n",
        "from tensorflow.keras.models import Model\n",
        "from tensorflow.keras.datasets import mnist\n",
        "from tensorflow.keras.utils import plot_model\n",
        "from tensorflow.keras import backend as K"
      ],
      "execution_count": 0,
      "outputs": []
    },
    {
      "cell_type": "code",
      "metadata": {
        "id": "KM_F3hqQmtaS",
        "colab_type": "code",
        "cellView": "both",
        "colab": {}
      },
      "source": [
        "#@title Initialisation des données\n",
        "# Charger le jeu de données MNIST\n",
        "(x_train, y_train), (x_test, y_test) = mnist.load_data()\n",
        "# reshape en (28, 28, 1)\n",
        "image_size = x_train.shape[1]\n",
        "x_train = np.reshape(x_train, [-1, image_size, image_size, 1])\n",
        "x_test = np.reshape(x_test, [-1, image_size, image_size, 1])\n",
        "# normaliser\n",
        "x_train = x_train.astype('float32') / 255\n",
        "x_test = x_test.astype('float32') / 255\n",
        "input_shape = (image_size, image_size, 1)\n",
        "batch_size = 100\n",
        "kernel_size = 3\n",
        "latent_dim = 16\n",
        "layer_filters = [32, 64]\n",
        "inputs = Input(shape=input_shape, name='Encoder_input')\n",
        "latent_inputs = Input(shape=(latent_dim,), name='Decoder_input')"
      ],
      "execution_count": 0,
      "outputs": []
    },
    {
      "cell_type": "code",
      "metadata": {
        "id": "gWBrsyEAgh0S",
        "colab_type": "code",
        "colab": {}
      },
      "source": [
        "#@title Encoder\n",
        "def Encoder(inputs,input_shape,kernel_size,latent_dim,layer_filters):\n",
        "  inputs = Input(shape=input_shape, name='Encoder_input')\n",
        "  x = inputs\n",
        "  # Conv2D(32)-Conv2D(64)\n",
        "  for filters in layer_filters:\n",
        "      x = Conv2D(filters=filters,\n",
        "                kernel_size=kernel_size,\n",
        "                activation='relu',\n",
        "                strides=2,\n",
        "                padding='same')(x)\n",
        "  shape = K.int_shape(x)\n",
        "\n",
        "  # générer un vecteur latent\n",
        "  x = Flatten()(x)\n",
        "  latent = Dense(latent_dim, name='latent_vector')(x)\n",
        "\n",
        "  encoder = Model(inputs, latent, name='Encoder')\n",
        "  encoder.summary()\n",
        "  plot_model(encoder, to_file='Encoder.png', show_shapes=True)\n",
        "  return encoder,shape"
      ],
      "execution_count": 0,
      "outputs": []
    },
    {
      "cell_type": "code",
      "metadata": {
        "id": "SiMS9ccFhv8E",
        "colab_type": "code",
        "colab": {}
      },
      "source": [
        "#@title Decoder\n",
        "def Decoder(latent_inputs,kernel_size,layer_filters,shape):\n",
        "  x = Dense(shape[1] * shape[2] * shape[3])(latent_inputs)\n",
        "  x = Reshape((shape[1], shape[2], shape[3]))(x)\n",
        "  # Conv2DTranspose(64)-Conv2DTranspose(32)\n",
        "  for filters in layer_filters[::-1]:\n",
        "      x = Conv2DTranspose(filters=filters,\n",
        "                          kernel_size=kernel_size,\n",
        "                          activation='relu',\n",
        "                          strides=2,\n",
        "                          padding='same')(x)\n",
        "\n",
        "  outputs = Conv2DTranspose(filters=1,\n",
        "                            kernel_size=kernel_size,\n",
        "                            activation='sigmoid',\n",
        "                            padding='same',\n",
        "                            name='Decoder_output')(x)\n",
        "\n",
        "  # instantiate decoder model\n",
        "  decoder = Model(latent_inputs, outputs, name='Decoder')\n",
        "  decoder.summary()\n",
        "  plot_model(decoder, to_file='Decoder.png', show_shapes=True)\n",
        "  return decoder"
      ],
      "execution_count": 0,
      "outputs": []
    },
    {
      "cell_type": "code",
      "metadata": {
        "id": "JMv1SI-jiriq",
        "colab_type": "code",
        "colab": {}
      },
      "source": [
        "#@title Auto-Encoder = Encoder + Decoder\n",
        "def AutoEncoder(inputs,batch_size,encoder,decoder,x_train,x_test):\n",
        "  autoencoder = Model(inputs, decoder(encoder(inputs)), name='Autoencoder')\n",
        "  autoencoder.summary()\n",
        "  plot_model(autoencoder, to_file='Auto_Encoder.png', show_shapes=True)\n",
        "  autoencoder.compile(loss='mse', optimizer='adam')\n",
        "  autoencoder.fit(x_train,\n",
        "                  x_train,\n",
        "                  validation_data=(x_test, x_test),\n",
        "                  epochs=1,\n",
        "                  batch_size=batch_size)\n",
        "  x_decoded = autoencoder.predict(x_test)\n",
        "  return autoencoder,x_decoded"
      ],
      "execution_count": 0,
      "outputs": []
    },
    {
      "cell_type": "code",
      "metadata": {
        "id": "arx0P9ADHDP7",
        "colab_type": "code",
        "colab": {
          "base_uri": "https://localhost:8080/",
          "height": 907
        },
        "outputId": "ed217657-4b89-4830-c7a3-ad20c899ed0f"
      },
      "source": [
        "#@title Run\n",
        "encoder,shape = Encoder(inputs,input_shape,kernel_size,latent_dim,layer_filters)\n",
        "decoder = Decoder(latent_inputs,kernel_size,layer_filters,shape)\n",
        "autoencoder,x_decoded = AutoEncoder(inputs,batch_size,encoder,decoder,x_train,x_test)"
      ],
      "execution_count": 12,
      "outputs": [
        {
          "output_type": "stream",
          "text": [
            "Model: \"Encoder\"\n",
            "_________________________________________________________________\n",
            "Layer (type)                 Output Shape              Param #   \n",
            "=================================================================\n",
            "Encoder_input (InputLayer)   [(None, 28, 28, 1)]       0         \n",
            "_________________________________________________________________\n",
            "conv2d (Conv2D)              (None, 14, 14, 32)        320       \n",
            "_________________________________________________________________\n",
            "conv2d_1 (Conv2D)            (None, 7, 7, 64)          18496     \n",
            "_________________________________________________________________\n",
            "flatten (Flatten)            (None, 3136)              0         \n",
            "_________________________________________________________________\n",
            "latent_vector (Dense)        (None, 16)                50192     \n",
            "=================================================================\n",
            "Total params: 69,008\n",
            "Trainable params: 69,008\n",
            "Non-trainable params: 0\n",
            "_________________________________________________________________\n",
            "Model: \"Decoder\"\n",
            "_________________________________________________________________\n",
            "Layer (type)                 Output Shape              Param #   \n",
            "=================================================================\n",
            "Decoder_input (InputLayer)   [(None, 16)]              0         \n",
            "_________________________________________________________________\n",
            "dense (Dense)                (None, 3136)              53312     \n",
            "_________________________________________________________________\n",
            "reshape (Reshape)            (None, 7, 7, 64)          0         \n",
            "_________________________________________________________________\n",
            "conv2d_transpose (Conv2DTran (None, 14, 14, 64)        36928     \n",
            "_________________________________________________________________\n",
            "conv2d_transpose_1 (Conv2DTr (None, 28, 28, 32)        18464     \n",
            "_________________________________________________________________\n",
            "Decoder_output (Conv2DTransp (None, 28, 28, 1)         289       \n",
            "=================================================================\n",
            "Total params: 108,993\n",
            "Trainable params: 108,993\n",
            "Non-trainable params: 0\n",
            "_________________________________________________________________\n",
            "Model: \"Autoencoder\"\n",
            "_________________________________________________________________\n",
            "Layer (type)                 Output Shape              Param #   \n",
            "=================================================================\n",
            "Encoder_input (InputLayer)   [(None, 28, 28, 1)]       0         \n",
            "_________________________________________________________________\n",
            "Encoder (Model)              (None, 16)                69008     \n",
            "_________________________________________________________________\n",
            "Decoder (Model)              (None, 28, 28, 1)         108993    \n",
            "=================================================================\n",
            "Total params: 178,001\n",
            "Trainable params: 178,001\n",
            "Non-trainable params: 0\n",
            "_________________________________________________________________\n",
            "600/600 [==============================] - 89s 149ms/step - loss: 0.0372 - val_loss: 0.0134\n"
          ],
          "name": "stdout"
        }
      ]
    },
    {
      "cell_type": "code",
      "metadata": {
        "id": "p9_NNctYih6O",
        "colab_type": "code",
        "colab": {
          "base_uri": "https://localhost:8080/",
          "height": 267
        },
        "outputId": "1e2cf8fb-f352-4928-85e5-d4240f3e1c64"
      },
      "source": [
        "#@title Image final\n",
        "imgs = np.concatenate([x_test[:8], x_decoded[:8]])\n",
        "imgs = imgs.reshape((4, 4, image_size, image_size))\n",
        "imgs = np.vstack([np.hstack(i) for i in imgs])\n",
        "plt.figure()\n",
        "plt.imshow(imgs, interpolation='none', cmap='gray')\n",
        "plt.savefig('input_and_decoded.png')\n",
        "plt.show()"
      ],
      "execution_count": 13,
      "outputs": [
        {
          "output_type": "display_data",
          "data": {
            "image/png": "[encoded data removed]",
            "text/plain": [
              "<Figure size 432x288 with 1 Axes>"
            ]
          },
          "metadata": {
            "tags": []
          }
        }
      ]
    }
  ]
}