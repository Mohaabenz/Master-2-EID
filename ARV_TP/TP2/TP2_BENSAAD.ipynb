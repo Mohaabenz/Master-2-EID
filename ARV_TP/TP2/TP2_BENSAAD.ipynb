{
  "nbformat": 4,
  "nbformat_minor": 0,
  "metadata": {
    "colab": {
      "name": "TP2.ipynb",
      "provenance": [],
      "collapsed_sections": []
    },
    "kernelspec": {
      "name": "python3",
      "display_name": "Python 3"
    }
  },
  "cells": [
    {
      "cell_type": "code",
      "metadata": {
        "id": "rubJvs9HlvpA",
        "colab_type": "code",
        "colab": {}
      },
      "source": [
        "import numpy as np\n",
        "import matplotlib.pyplot as plt"
      ],
      "execution_count": 0,
      "outputs": []
    },
    {
      "cell_type": "code",
      "metadata": {
        "id": "8k7Yt2yzBWac",
        "colab_type": "code",
        "colab": {}
      },
      "source": [
        "def haar_1d_directe(n,u):\n",
        "    v = np.copy(u)\n",
        "    s = (2.0)\n",
        "    w = np.zeros((n))\n",
        "    m = n\n",
        "    while 1 < m :\n",
        "        m = (m//2)\n",
        "        w[0:m] = (v[0:2*m-1:2] + v[1:2*m:2]) / s\n",
        "        w[m:2*m] = (v[0:2*m-1:2] - v[1:2*m:2]) / s\n",
        "        v[0:2*m] = w[0:2*m]\n",
        "    return v\n",
        "\n",
        "def haar_1d_inverse(n,u):\n",
        "    v = np.copy(u)\n",
        "    w = np.zeros((n))\n",
        "    m = 1\n",
        "    while (m*2 <= n):\n",
        "        w[0:2*m-1:2] = v[0:m] + v[m:2*m] \n",
        "        w[1:2*m:2]  = v[0:m] - v[m:2*m]\n",
        "        v[0:2*m] = w[0:2*m]\n",
        "        m=2*m        \n",
        "    return v"
      ],
      "execution_count": 0,
      "outputs": []
    },
    {
      "cell_type": "code",
      "metadata": {
        "id": "Ap3ij6sF5uyQ",
        "colab_type": "code",
        "outputId": "952bbe6a-2932-4474-b536-90da5edc035c",
        "colab": {
          "base_uri": "https://localhost:8080/",
          "height": 121
        }
      },
      "source": [
        "def quadHaar_1d_directe(x):\n",
        "    n = len(x)\n",
        "    v = np.copy(x)\n",
        "    res = np.zeros((n))\n",
        "    m = n\n",
        "    while 1 < m :\n",
        "      m = (m//2)\n",
        "      w = np.zeros((m))\n",
        "      w[0:m] = (v[0:2*m-1:2] + v[1:2*m:2]) / 2\n",
        "      w2 = np.copy(w)\n",
        "      if m == 1:\n",
        "        w[0] = w[0] - v[0]\n",
        "        res[m:m*2] = w[0:m]\n",
        "      else :\n",
        "        w[1:m-1] = (w2[1:m-1] - (w2[0:m-2] - w2[2:m])/8)\n",
        "        w[0] = (w2[0] - (w2[m-1] - w2[1])/8) \n",
        "        w[m-1] = (w2[m-1] - (w2[m-2] - w2[0])/8) \n",
        "        w[0:m] = w[0:m] - v[0:m*2:2]\n",
        "        res[m:m*2] = w[0:m]\n",
        "        v = np.copy(w2)\n",
        "    res[0] = w2[0] \n",
        "    return res\n",
        "\n",
        "print(\"EXERCICE 1 direct\\n\")\n",
        "\n",
        "tab = (np.array([1,2,3,4,5,6,7,8],float))\n",
        "\n",
        "haar = quadHaar_1d_directe(tab)\n",
        "print(haar)\n",
        "print(\"\\n\\n\")"
      ],
      "execution_count": 431,
      "outputs": [
        {
          "output_type": "stream",
          "text": [
            "EXERCICE 1 direct\n",
            "\n",
            "[4.5 2.  1.  1.  0.  1.  1.  0. ]\n",
            "\n",
            "\n",
            "\n"
          ],
          "name": "stdout"
        }
      ]
    },
    {
      "cell_type": "code",
      "metadata": {
        "colab_type": "code",
        "id": "jb9qtgJjV7rA",
        "colab": {}
      },
      "source": [
        "def quadHaar_1d_inverse(x):\n",
        "    n = 1\n",
        "    i = 1\n",
        "    v = np.copy([x[0]]) \n",
        "    while(n <= len(x)/2):\n",
        "        w = np.zeros((n))        \n",
        "        w2 = np.zeros((n))\n",
        "        res = np.zeros((n))\n",
        "        if n == 1 :\n",
        "            w[0] = v[0]\n",
        "        else :             \n",
        "            w[1:n-1] = v[1:n-1] - (v[0:n-2] - v[2:n])/8\n",
        "            w[0] = v[0] - (v[(n-1)] - v[1])/8\n",
        "            w[n-1] = (v[n-1] - (v[(n-2)] - v[0])/8)  \n",
        "        res[0:n] = w[0:n] - x[i:i+n]\n",
        "        w2[0:n] = 2*v[0:n]-res[0:n]\n",
        "        res = fusion_alt(res,w2)\n",
        "        i = i + n\n",
        "        v = np.copy(res)\n",
        "        n = len(res)\n",
        "    return res\n",
        "\n",
        "def fusion_alt(v1,v2):\n",
        "    n = len(v1)\n",
        "    w = np.zeros((2*n))\n",
        "    for i in range(n):\n",
        "        w[0:2*n-1:2] = v1[0:n]\n",
        "        w[1:2*n:2] = v2[0:n]\n",
        "    return w"
      ],
      "execution_count": 0,
      "outputs": []
    },
    {
      "cell_type": "code",
      "metadata": {
        "id": "UqPauAHWQAOS",
        "colab_type": "code",
        "colab": {
          "base_uri": "https://localhost:8080/",
          "height": 69
        },
        "outputId": "2bc12cd0-b116-4aa4-b62e-df4969d71f7d"
      },
      "source": [
        "print(\"EXERCICE 1 inverse\\n\")\n",
        "haari = quadHaar_1d_inverse(haar)\n",
        "print(haari)"
      ],
      "execution_count": 433,
      "outputs": [
        {
          "output_type": "stream",
          "text": [
            "EXERCICE 1 inverse\n",
            "\n",
            "[1. 2. 3. 4. 5. 6. 7. 8.]\n"
          ],
          "name": "stdout"
        }
      ]
    },
    {
      "cell_type": "code",
      "metadata": {
        "id": "lN-Qo6U4OQTH",
        "colab_type": "code",
        "colab": {}
      },
      "source": [
        "def ex1(n):\n",
        "    y = np.zeros((n))\n",
        "    for i in range(n):\n",
        "        y[i] = i+1\n",
        "    #print(y)\n",
        "    return y\n",
        "\n",
        "def ex3(n):\n",
        "    x = np.zeros((n))\n",
        "    for i in range(int(n/2)):\n",
        "        x[i] = np.sin((2*np.pi)*i)\n",
        "    for i in range(int((n/2)+1),n) :\n",
        "        x[i] = 1/2 + np.sin((2*np.pi)*i) \n",
        "    return x\n",
        "\n",
        "image1 = np.array([43,41,40,39,35,30,100,79,190,192,150,166,131,140,145,161],float)\n",
        "e1 = ex1(8)\n",
        "e3 = ex3(8)"
      ],
      "execution_count": 0,
      "outputs": []
    },
    {
      "cell_type": "code",
      "metadata": {
        "id": "BtZAdoPRQJtl",
        "colab_type": "code",
        "colab": {
          "base_uri": "https://localhost:8080/",
          "height": 104
        },
        "outputId": "4b9717f0-fb7f-4afa-b651-ebfb9e0c60a8"
      },
      "source": [
        "print(\"EXERCICE 2\\n\")\n",
        "print('ex1')\n",
        "print(e1)\n",
        "print (quadHaar_1d_inverse(quadHaar_1d_directe(e1)))"
      ],
      "execution_count": 435,
      "outputs": [
        {
          "output_type": "stream",
          "text": [
            "EXERCICE 2\n",
            "\n",
            "ex1\n",
            "[1. 2. 3. 4. 5. 6. 7. 8.]\n",
            "[1. 2. 3. 4. 5. 6. 7. 8.]\n"
          ],
          "name": "stdout"
        }
      ]
    },
    {
      "cell_type": "code",
      "metadata": {
        "id": "OIwTnDa5QJ7V",
        "colab_type": "code",
        "colab": {
          "base_uri": "https://localhost:8080/",
          "height": 121
        },
        "outputId": "de065c9f-ba1c-48e4-b89d-a89e553e35c2"
      },
      "source": [
        "print('\\nex2')\n",
        "print(image1)\n",
        "print (quadHaar_1d_inverse(quadHaar_1d_directe(image1)))"
      ],
      "execution_count": 436,
      "outputs": [
        {
          "output_type": "stream",
          "text": [
            "\n",
            "ex2\n",
            "[ 43.  41.  40.  39.  35.  30. 100.  79. 190. 192. 150. 166. 131. 140.\n",
            " 145. 161.]\n",
            "[ 43.  41.  40.  39.  35.  30. 100.  79. 190. 192. 150. 166. 131. 140.\n",
            " 145. 161.]\n"
          ],
          "name": "stdout"
        }
      ]
    },
    {
      "cell_type": "code",
      "metadata": {
        "id": "1Xdj5tArQGh-",
        "colab_type": "code",
        "colab": {
          "base_uri": "https://localhost:8080/",
          "height": 121
        },
        "outputId": "0f291ddd-95a6-48e8-e848-5359e9641110"
      },
      "source": [
        "print('\\nex3')\n",
        "print(e3)\n",
        "print (quadHaar_1d_inverse(quadHaar_1d_directe(e3)))"
      ],
      "execution_count": 437,
      "outputs": [
        {
          "output_type": "stream",
          "text": [
            "\n",
            "ex3\n",
            "[ 0.00000000e+00 -2.44929360e-16 -4.89858720e-16 -7.34788079e-16\n",
            "  0.00000000e+00  5.00000000e-01  5.00000000e-01  5.00000000e-01]\n",
            "[ 6.93889390e-18 -2.38725140e-16 -4.85722573e-16 -7.25781112e-16\n",
            "  0.00000000e+00  5.00000000e-01  5.00000000e-01  5.00000000e-01]\n"
          ],
          "name": "stdout"
        }
      ]
    },
    {
      "cell_type": "code",
      "metadata": {
        "id": "3R8DEwruW1ra",
        "colab_type": "code",
        "colab": {}
      },
      "source": [
        "def seuillage(x,T):\n",
        "    y = np.copy(x)\n",
        "    for i in range((len(y))):\n",
        "        if (np.absolute(y[i]) <= T):\n",
        "            y[i] = 0.0\n",
        "    return y"
      ],
      "execution_count": 0,
      "outputs": []
    },
    {
      "cell_type": "code",
      "metadata": {
        "id": "MHIP9L08QUcq",
        "colab_type": "code",
        "colab": {
          "base_uri": "https://localhost:8080/",
          "height": 469
        },
        "outputId": "7ca85431-ff8a-44a0-b66a-2222fd454b37"
      },
      "source": [
        "print(\"EXERCICE 3 \\n\")\n",
        "taille = 64\n",
        "e11 = ex1(taille)\n",
        "e33 = ex3(taille)\n",
        "\n",
        "print('ex1')\n",
        "print(e11)\n",
        "print('Seuil 12')\n",
        "print (seuillage(quadHaar_1d_directe(e11),12))\n",
        "print (seuillage(haar_1d_directe(taille,e11),12))\n",
        "print('Seuil 128')\n",
        "print (seuillage(quadHaar_1d_directe(e11),128))\n",
        "print (seuillage(haar_1d_directe(taille,e11),128))"
      ],
      "execution_count": 439,
      "outputs": [
        {
          "output_type": "stream",
          "text": [
            "EXERCICE 3 \n",
            "\n",
            "ex1\n",
            "[ 1.  2.  3.  4.  5.  6.  7.  8.  9. 10. 11. 12. 13. 14. 15. 16. 17. 18.\n",
            " 19. 20. 21. 22. 23. 24. 25. 26. 27. 28. 29. 30. 31. 32. 33. 34. 35. 36.\n",
            " 37. 38. 39. 40. 41. 42. 43. 44. 45. 46. 47. 48. 49. 50. 51. 52. 53. 54.\n",
            " 55. 56. 57. 58. 59. 60. 61. 62. 63. 64.]\n",
            "Seuil 12\n",
            "[32.5 16.   0.   0.   0.   0.   0.   0.   0.   0.   0.   0.   0.   0.\n",
            "  0.   0.   0.   0.   0.   0.   0.   0.   0.   0.   0.   0.   0.   0.\n",
            "  0.   0.   0.   0.   0.   0.   0.   0.   0.   0.   0.   0.   0.   0.\n",
            "  0.   0.   0.   0.   0.   0.   0.   0.   0.   0.   0.   0.   0.   0.\n",
            "  0.   0.   0.   0.   0.   0.   0.   0. ]\n",
            "[ 32.5 -16.    0.    0.    0.    0.    0.    0.    0.    0.    0.    0.\n",
            "   0.    0.    0.    0.    0.    0.    0.    0.    0.    0.    0.    0.\n",
            "   0.    0.    0.    0.    0.    0.    0.    0.    0.    0.    0.    0.\n",
            "   0.    0.    0.    0.    0.    0.    0.    0.    0.    0.    0.    0.\n",
            "   0.    0.    0.    0.    0.    0.    0.    0.    0.    0.    0.    0.\n",
            "   0.    0.    0.    0. ]\n",
            "Seuil 128\n",
            "[0. 0. 0. 0. 0. 0. 0. 0. 0. 0. 0. 0. 0. 0. 0. 0. 0. 0. 0. 0. 0. 0. 0. 0.\n",
            " 0. 0. 0. 0. 0. 0. 0. 0. 0. 0. 0. 0. 0. 0. 0. 0. 0. 0. 0. 0. 0. 0. 0. 0.\n",
            " 0. 0. 0. 0. 0. 0. 0. 0. 0. 0. 0. 0. 0. 0. 0. 0.]\n",
            "[0. 0. 0. 0. 0. 0. 0. 0. 0. 0. 0. 0. 0. 0. 0. 0. 0. 0. 0. 0. 0. 0. 0. 0.\n",
            " 0. 0. 0. 0. 0. 0. 0. 0. 0. 0. 0. 0. 0. 0. 0. 0. 0. 0. 0. 0. 0. 0. 0. 0.\n",
            " 0. 0. 0. 0. 0. 0. 0. 0. 0. 0. 0. 0. 0. 0. 0. 0.]\n"
          ],
          "name": "stdout"
        }
      ]
    },
    {
      "cell_type": "code",
      "metadata": {
        "id": "-NMJUWj8QauT",
        "colab_type": "code",
        "colab": {
          "base_uri": "https://localhost:8080/",
          "height": 243
        },
        "outputId": "625278ef-de51-4eda-c62f-628d7e3fdbca"
      },
      "source": [
        "print('\\nex2')\n",
        "print(image1)\n",
        "print('Seuil 12')\n",
        "print (seuillage(quadHaar_1d_directe(image1),12))\n",
        "print (seuillage(haar_1d_directe(len(image1),image1),12))\n",
        "print('Seuil 128')\n",
        "print (seuillage(quadHaar_1d_directe(image1),128))\n",
        "print (seuillage(haar_1d_directe(len(image1),image1),128))"
      ],
      "execution_count": 440,
      "outputs": [
        {
          "output_type": "stream",
          "text": [
            "\n",
            "ex2\n",
            "[ 43.  41.  40.  39.  35.  30. 100.  79. 190. 192. 150. 166. 131. 140.\n",
            " 145. 161.]\n",
            "Seuil 12\n",
            "[105.125    54.25      0.      -15.125     0.       45.21875   0.\n",
            "   0.      -15.1875    0.        0.        0.        0.        0.\n",
            "   0.        0.     ]\n",
            "[105.125 -54.25    0.     15.125   0.    -28.5    16.5     0.      0.\n",
            "   0.      0.      0.      0.      0.      0.      0.   ]\n",
            "Seuil 128\n",
            "[0. 0. 0. 0. 0. 0. 0. 0. 0. 0. 0. 0. 0. 0. 0. 0.]\n",
            "[0. 0. 0. 0. 0. 0. 0. 0. 0. 0. 0. 0. 0. 0. 0. 0.]\n"
          ],
          "name": "stdout"
        }
      ]
    },
    {
      "cell_type": "code",
      "metadata": {
        "id": "BTUjiWYmQa6L",
        "colab_type": "code",
        "colab": {
          "base_uri": "https://localhost:8080/",
          "height": 573
        },
        "outputId": "bea06f46-635a-4760-9085-4614e0baf088"
      },
      "source": [
        "print('\\nex3')\n",
        "print(e33)\n",
        "print('Seuil 12')\n",
        "print (seuillage(quadHaar_1d_directe(e33),12))\n",
        "print (seuillage(haar_1d_directe(taille,e33),12))\n",
        "print('Seuil 128')\n",
        "print (seuillage(quadHaar_1d_directe(e33),128))\n",
        "print (seuillage(haar_1d_directe(taille,e33),128))"
      ],
      "execution_count": 441,
      "outputs": [
        {
          "output_type": "stream",
          "text": [
            "\n",
            "ex3\n",
            "[ 0.00000000e+00 -2.44929360e-16 -4.89858720e-16 -7.34788079e-16\n",
            " -9.79717439e-16 -1.22464680e-15 -1.46957616e-15 -1.71450552e-15\n",
            " -1.95943488e-15 -2.20436424e-15 -2.44929360e-15 -9.79965032e-15\n",
            " -2.93915232e-15  3.92134568e-15 -3.42901104e-15 -1.07793678e-14\n",
            " -3.91886976e-15  2.94162824e-15 -4.40872848e-15 -1.17590852e-14\n",
            " -4.89858720e-15  1.96191080e-15 -1.95993006e-14 -1.27388026e-14\n",
            " -5.87830464e-15  9.82193362e-16  7.84269136e-15 -1.37185201e-14\n",
            " -6.85802208e-15  2.47592255e-18 -2.15587355e-14 -1.46982375e-14\n",
            "  0.00000000e+00  5.00000000e-01  5.00000000e-01  5.00000000e-01\n",
            "  5.00000000e-01  5.00000000e-01  5.00000000e-01  5.00000000e-01\n",
            "  5.00000000e-01  5.00000000e-01  5.00000000e-01  5.00000000e-01\n",
            "  5.00000000e-01  5.00000000e-01  5.00000000e-01  5.00000000e-01\n",
            "  5.00000000e-01  5.00000000e-01  5.00000000e-01  5.00000000e-01\n",
            "  5.00000000e-01  5.00000000e-01  5.00000000e-01  5.00000000e-01\n",
            "  5.00000000e-01  5.00000000e-01  5.00000000e-01  5.00000000e-01\n",
            "  5.00000000e-01  5.00000000e-01  5.00000000e-01  5.00000000e-01]\n",
            "Seuil 12\n",
            "[0. 0. 0. 0. 0. 0. 0. 0. 0. 0. 0. 0. 0. 0. 0. 0. 0. 0. 0. 0. 0. 0. 0. 0.\n",
            " 0. 0. 0. 0. 0. 0. 0. 0. 0. 0. 0. 0. 0. 0. 0. 0. 0. 0. 0. 0. 0. 0. 0. 0.\n",
            " 0. 0. 0. 0. 0. 0. 0. 0. 0. 0. 0. 0. 0. 0. 0. 0.]\n",
            "[0. 0. 0. 0. 0. 0. 0. 0. 0. 0. 0. 0. 0. 0. 0. 0. 0. 0. 0. 0. 0. 0. 0. 0.\n",
            " 0. 0. 0. 0. 0. 0. 0. 0. 0. 0. 0. 0. 0. 0. 0. 0. 0. 0. 0. 0. 0. 0. 0. 0.\n",
            " 0. 0. 0. 0. 0. 0. 0. 0. 0. 0. 0. 0. 0. 0. 0. 0.]\n",
            "Seuil 128\n",
            "[0. 0. 0. 0. 0. 0. 0. 0. 0. 0. 0. 0. 0. 0. 0. 0. 0. 0. 0. 0. 0. 0. 0. 0.\n",
            " 0. 0. 0. 0. 0. 0. 0. 0. 0. 0. 0. 0. 0. 0. 0. 0. 0. 0. 0. 0. 0. 0. 0. 0.\n",
            " 0. 0. 0. 0. 0. 0. 0. 0. 0. 0. 0. 0. 0. 0. 0. 0.]\n",
            "[0. 0. 0. 0. 0. 0. 0. 0. 0. 0. 0. 0. 0. 0. 0. 0. 0. 0. 0. 0. 0. 0. 0. 0.\n",
            " 0. 0. 0. 0. 0. 0. 0. 0. 0. 0. 0. 0. 0. 0. 0. 0. 0. 0. 0. 0. 0. 0. 0. 0.\n",
            " 0. 0. 0. 0. 0. 0. 0. 0. 0. 0. 0. 0. 0. 0. 0. 0.]\n"
          ],
          "name": "stdout"
        }
      ]
    },
    {
      "cell_type": "code",
      "metadata": {
        "id": "BR8guiy1XcsV",
        "colab_type": "code",
        "colab": {
          "base_uri": "https://localhost:8080/",
          "height": 69
        },
        "outputId": "fd982f78-1f6c-494c-8ecd-873108f59b07"
      },
      "source": [
        "def erreur(a,b):\n",
        "    n = len(a)\n",
        "    s = 0\n",
        "    for i in range(n):\n",
        "        s = s + np.square(np.absolute(a[i]-b[i]))\n",
        "    s = np.sqrt(s)\n",
        "    return s\n",
        "\n",
        "print(\"\\nEXERCICE 4\\n\")\n"
      ],
      "execution_count": 442,
      "outputs": [
        {
          "output_type": "stream",
          "text": [
            "\n",
            "EXERCICE 4\n",
            "\n"
          ],
          "name": "stdout"
        }
      ]
    },
    {
      "cell_type": "code",
      "metadata": {
        "id": "DivHMklKEwcZ",
        "colab_type": "code",
        "colab": {
          "base_uri": "https://localhost:8080/",
          "height": 208
        },
        "outputId": "41266119-80aa-4d78-f8ac-52bcf6e3230c"
      },
      "source": [
        "print('ex1')\n",
        "print('T=12')\n",
        "print('QuadHaar')\n",
        "print (erreur(e11,quadHaar_1d_inverse(seuillage(e11,12))))\n",
        "print('Haar')\n",
        "print (erreur(e11,haar_1d_inverse(taille,seuillage(e11,12))))\n",
        "print('T=128')\n",
        "print('QuadHaar')\n",
        "print (erreur(e11,quadHaar_1d_inverse(seuillage(e11,128))))\n",
        "print('Haar')\n",
        "print (erreur(e11,haar_1d_inverse(taille,seuillage(e11,128))))"
      ],
      "execution_count": 443,
      "outputs": [
        {
          "output_type": "stream",
          "text": [
            "ex1\n",
            "T=12\n",
            "QuadHaar\n",
            "532.5967103347288\n",
            "Haar\n",
            "547.7955823115042\n",
            "T=128\n",
            "QuadHaar\n",
            "299.0652102802999\n",
            "Haar\n",
            "299.0652102802999\n"
          ],
          "name": "stdout"
        }
      ]
    },
    {
      "cell_type": "code",
      "metadata": {
        "id": "pEQZxSlWE0yT",
        "colab_type": "code",
        "colab": {
          "base_uri": "https://localhost:8080/",
          "height": 208
        },
        "outputId": "71236e52-53e0-46ff-9f74-97e49f10feb0"
      },
      "source": [
        "print('ex2')\n",
        "print('T=12')\n",
        "print('QuadHaar')\n",
        "print (erreur(image1,quadHaar_1d_inverse(seuillage(image1,12))))\n",
        "print('Haar')\n",
        "print (erreur(image1,haar_1d_inverse(len(image1),seuillage(image1,12))))\n",
        "print('T=128')\n",
        "print('QuadHaar')\n",
        "print (erreur(image1,quadHaar_1d_inverse(seuillage(image1,128))))\n",
        "print('Haar')\n",
        "print (erreur(image1,haar_1d_inverse(len(image1),seuillage(image1,128))))"
      ],
      "execution_count": 444,
      "outputs": [
        {
          "output_type": "stream",
          "text": [
            "ex2\n",
            "T=12\n",
            "QuadHaar\n",
            "770.5845437474723\n",
            "Haar\n",
            "851.8485780935482\n",
            "T=128\n",
            "QuadHaar\n",
            "801.2789776351306\n",
            "Haar\n",
            "805.2005961249656\n"
          ],
          "name": "stdout"
        }
      ]
    },
    {
      "cell_type": "code",
      "metadata": {
        "id": "DbR83HkxE3I3",
        "colab_type": "code",
        "colab": {
          "base_uri": "https://localhost:8080/",
          "height": 208
        },
        "outputId": "44680c9a-ece6-4fb6-f33b-5f6399168c3f"
      },
      "source": [
        "print('ex3')\n",
        "print('T=12')\n",
        "print('QuadHaar')\n",
        "print (erreur(e33,quadHaar_1d_inverse(seuillage(e33,12))))\n",
        "print('Haar')\n",
        "print (erreur(e33,haar_1d_inverse(taille,seuillage(e33,12))))\n",
        "print('T=128')\n",
        "print('QuadHaar')\n",
        "print (erreur(e33,quadHaar_1d_inverse(seuillage(e33,128))))\n",
        "print('Haar')\n",
        "print (erreur(e33,haar_1d_inverse(taille,seuillage(e33,128))))"
      ],
      "execution_count": 445,
      "outputs": [
        {
          "output_type": "stream",
          "text": [
            "ex3\n",
            "T=12\n",
            "QuadHaar\n",
            "2.7838821814149406\n",
            "Haar\n",
            "2.7838821814149406\n",
            "T=128\n",
            "QuadHaar\n",
            "2.7838821814149406\n",
            "Haar\n",
            "2.7838821814149406\n"
          ],
          "name": "stdout"
        }
      ]
    },
    {
      "cell_type": "code",
      "metadata": {
        "id": "YA3R51ZJGz6W",
        "colab_type": "code",
        "colab": {}
      },
      "source": [
        "def quadGraphe(x):\n",
        "    v = np.zeros((128,2))\n",
        "    for i in range(128):\n",
        "        v[i,0] = (erreur(x,quadHaar_1d_inverse(seuillage(quadHaar_1d_directe(x),i))))\n",
        "        v[i,1] = i\n",
        "    return v \n",
        "\n",
        "def graphe(x):\n",
        "    v = np.zeros((128,2))\n",
        "    for i in range(128):\n",
        "        v[i,0] = (erreur(x,haar_1d_inverse(len(x),seuillage(haar_1d_directe(len(x),x),i))))\n",
        "        v[i,1] = i\n",
        "    return v\n"
      ],
      "execution_count": 0,
      "outputs": []
    },
    {
      "cell_type": "code",
      "metadata": {
        "id": "mrGqDS48PCav",
        "colab_type": "code",
        "colab": {
          "base_uri": "https://localhost:8080/",
          "height": 310
        },
        "outputId": "bb93074e-018e-4daf-e56a-7765abf2c613"
      },
      "source": [
        "v1 = quadGraphe(e11)\n",
        "v2 = graphe(e11)\n",
        "\n",
        "\n",
        "plt.scatter(v1[:,0],v1[:,1], color=\"red\")\n",
        "plt.scatter(v2[:,0],v2[:,1], color=\"blue\")\n",
        "plt.title('Qualite de la reconstruction par rapport aux seuils utilisées \\n QuadHaar vs Haar pour ex1')\n",
        "plt.xlabel('Erreur')\n",
        "plt.ylabel('Seuil')\n",
        "plt.show()"
      ],
      "execution_count": 447,
      "outputs": [
        {
          "output_type": "display_data",
          "data": {
            "image/png": "[encoded data removed]",
            "text/plain": [
              "<Figure size 432x288 with 1 Axes>"
            ]
          },
          "metadata": {
            "tags": []
          }
        }
      ]
    },
    {
      "cell_type": "code",
      "metadata": {
        "id": "8QkrjbJLPOcK",
        "colab_type": "code",
        "colab": {
          "base_uri": "https://localhost:8080/",
          "height": 310
        },
        "outputId": "df7f968c-b720-437d-e76b-79cb0e4637dd"
      },
      "source": [
        "v1 = quadGraphe(image1)\n",
        "v2 = graphe(image1)\n",
        "\n",
        "\n",
        "plt.scatter(v1[:,0],v1[:,1], color=\"red\")\n",
        "plt.scatter(v2[:,0],v2[:,1], color=\"blue\")\n",
        "plt.title('Qualite de la reconstruction par rapport aux seuils \\n utilisées QuadHaar vs Haar pour ex2')\n",
        "plt.xlabel('Erreur')\n",
        "plt.ylabel('Seuil')\n",
        "plt.show()"
      ],
      "execution_count": 448,
      "outputs": [
        {
          "output_type": "display_data",
          "data": {
            "image/png": "[encoded data removed]",
            "text/plain": [
              "<Figure size 432x288 with 1 Axes>"
            ]
          },
          "metadata": {
            "tags": []
          }
        }
      ]
    },
    {
      "cell_type": "code",
      "metadata": {
        "id": "WHnmZUTcPP4U",
        "colab_type": "code",
        "colab": {
          "base_uri": "https://localhost:8080/",
          "height": 310
        },
        "outputId": "c4797cdc-33c6-478f-a879-7fe23bb26da7"
      },
      "source": [
        "v1 = quadGraphe(e33)\n",
        "v2 = graphe(e33)\n",
        "\n",
        "\n",
        "plt.scatter(v1[:,0],v1[:,1], color=\"red\")\n",
        "plt.scatter(v2[:,0],v2[:,1], color=\"blue\")\n",
        "plt.title('Qualite de la reconstruction par rapport aux seuils \\n utilisées QuadHaar vs Haar pour ex3')\n",
        "plt.xlabel('Erreur')\n",
        "plt.ylabel('Seuil')\n",
        "plt.show()"
      ],
      "execution_count": 449,
      "outputs": [
        {
          "output_type": "display_data",
          "data": {
            "image/png": "[encoded data removed]",
            "text/plain": [
              "<Figure size 432x288 with 1 Axes>"
            ]
          },
          "metadata": {
            "tags": []
          }
        }
      ]
    }
  ]
}