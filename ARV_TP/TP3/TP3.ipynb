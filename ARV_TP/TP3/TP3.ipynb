{
  "nbformat": 4,
  "nbformat_minor": 0,
  "metadata": {
    "colab": {
      "name": "TP3.ipynb",
      "provenance": [],
      "collapsed_sections": []
    },
    "kernelspec": {
      "name": "python3",
      "display_name": "Python 3"
    }
  },
  "cells": [
    {
      "cell_type": "code",
      "metadata": {
        "id": "K-I6wRgi2Yk0",
        "colab_type": "code",
        "colab": {}
      },
      "source": [
        "import numpy as np\n",
        "import matplotlib.pyplot as plt"
      ],
      "execution_count": 0,
      "outputs": []
    },
    {
      "cell_type": "code",
      "metadata": {
        "id": "KJtIIjTs6ESY",
        "colab_type": "code",
        "colab": {}
      },
      "source": [
        "def haar_1d_directe(n,u):\n",
        "    v = np.copy(u)\n",
        "    s = (2.0)\n",
        "    w = np.zeros((n))\n",
        "    m = n\n",
        "    while 1 < m :\n",
        "        m = (m//2)\n",
        "        w[0:m] = (v[0:2*m-1:2] + v[1:2*m:2]) / s\n",
        "        w[m:2*m] = (v[0:2*m-1:2] - v[1:2*m:2]) / s\n",
        "        v[0:2*m] = w[0:2*m]\n",
        "    return v\n",
        "\n",
        "def haar_1d_inverse(n,u):\n",
        "    v = np.copy(u)\n",
        "    w = np.zeros((n))\n",
        "    m = 1\n",
        "    while (m*2 <= n):\n",
        "        w[0:2*m-1:2] = v[0:m] + v[m:2*m]\n",
        "        w[1:2*m:2]  = v[0:m] - v[m:2*m]\n",
        "        v[0:2*m] = w[0:2*m]\n",
        "        m=2*m        \n",
        "    return v"
      ],
      "execution_count": 0,
      "outputs": []
    },
    {
      "cell_type": "code",
      "metadata": {
        "id": "Q8K0MWrI2wuI",
        "colab_type": "code",
        "colab": {}
      },
      "source": [
        "#########    EXERCICE 1     ##########\n",
        "\n",
        "\n",
        "def downsizingQNL(v):\n",
        "    m = (len(v)//2)\n",
        "    w = np.zeros((m))\n",
        "    w[0:m] = (v[0:2*m-1:2] + v[1:2*m:2]) / 2\n",
        "    return w\n",
        "\n",
        "def upsizingQNL(v,w2):\n",
        "    m = len(v)//2\n",
        "    n = 2*m\n",
        "    g = np.zeros((m))\n",
        "    c = np.zeros((m))\n",
        "    d = np.zeros((m))\n",
        "    w3 = np.concatenate((w2,w2))\n",
        "    if m > 1 :\n",
        "        g[0:m] = np.abs(w3[(m-2)%n:(n-2)%n]-w3[(m-1)%n:(n-1)%n]) + np.abs(w3[(m-1)%n:(n-1)%n]-w3[m:n])\n",
        "        c[0:m] = np.abs(w3[(m-1)%n:(n-1)%n]-w3[m:n]) + np.abs(w3[0:m]-w3[1:m+1])\n",
        "        d[0:m] = np.abs(w3[0:m]-w3[1:m+1])+np.abs(w3[1:m+1]-w3[2:m+2])\n",
        "    w = np.zeros((m))\n",
        "    for i in range(m) :\n",
        "        if g[i] < c[i] and g[i] < d[i]:\n",
        "            w[i] = (w2[i]*(5/8)) + (w2[(i-1)%m]/2) -(w2[(i-2)%m]/8)\n",
        "        elif d[i] < c[i] and d[i] < g[i]:\n",
        "            w[i] = (w2[i]*(11/8)) - (w2[(i+1)%m]/2) + (w2[(i+2)%m]/8)\n",
        "        else:\n",
        "            w[i] = w2[i] - (w2[(i-1)%m] - w2[(i+1)%m])/8\n",
        "    w4 = np.zeros((m))\n",
        "    w4[0:m] = v[0:n:2] - w[0:m]\n",
        "    return w4"
      ],
      "execution_count": 0,
      "outputs": []
    },
    {
      "cell_type": "code",
      "metadata": {
        "id": "reS5Ross20YF",
        "colab_type": "code",
        "colab": {}
      },
      "source": [
        "def QNLHaar_1d_directe(x):\n",
        "    n = len(x)\n",
        "    v = np.copy(x)\n",
        "    m = n\n",
        "    res = np.zeros((0))\n",
        "    while 1 < m :\n",
        "      m = (m//2)\n",
        "      w = downsizingQNL(v)\n",
        "      w2 = upsizingQNL(v,w)\n",
        "      res = np.concatenate((w2,res))\n",
        "      v = np.copy(w)\n",
        "    res = np.concatenate((v,res))\n",
        "    return res\n",
        "\n",
        "\n",
        "def QNLHaar_1d_inverse(x):\n",
        "    n=1\n",
        "    i=1\n",
        "    v = np.copy([x[0]]) \n",
        "    while n <= len(x)/2:\n",
        "        m = 2*n\n",
        "        w = np.zeros((n))\n",
        "        w2 = np.concatenate((v,v))\n",
        "        w3 = np.zeros((m))\n",
        "        g = np.zeros((n)) \n",
        "        c = np.zeros((n)) \n",
        "        d = np.zeros((n))\n",
        "        if n > 1 :\n",
        "            g[0:n] = np.abs(w2[(n-2)%m:(m-2)%m]-w2[(n-1)%m:(m-1)%m]) + np.abs(w2[(n-1)%m:(m-1)%m]-w2[0:n])\n",
        "            c[0:n] = np.abs(w2[(n-1)%m:(m-1)%m]-w2[0:n]) + np.abs(w2[0:n]-w2[1:n+1])\n",
        "            d[0:n] = np.abs(w2[0:n]-w2[1:n+1])+np.abs(w2[1:n+1]-w2[2:n+2])\n",
        "        for i in range(n):\n",
        "            if g[i] < c[i] and g[i] < d[i]:\n",
        "                w[i] = (v[i]*(5/8)) + (v[(i-1)%n]/2) -(v[(i-2)%n]/8)\n",
        "            elif d[i] < c[i] and d[i] < g[i]:\n",
        "                w[i] = (v[i]*(11/8)) - (v[(i+1)%n]/2) + (v[(i+2)%n]/8)\n",
        "            else : \n",
        "                w[i] = v[i] - (v[(i-1)%n] - v[(i+1)%n])/8\n",
        "        w3[0:m-1:2] = w[0:n] + x[n:m]\n",
        "        w3[1:m:2] = 2*v[0:n]-w3[0:m-1:2]\n",
        "        res=np.zeros((m))\n",
        "        for i in range(n):\n",
        "            res[0:m-1:2] = w3[0:m-1:2]\n",
        "            res[1:m:2] = w3[1:m:2]\n",
        "        i=i+n\n",
        "        v = np.copy(res)\n",
        "        n = len(res)\n",
        "    return res"
      ],
      "execution_count": 0,
      "outputs": []
    },
    {
      "cell_type": "code",
      "metadata": {
        "id": "3p7A6Sy82380",
        "colab_type": "code",
        "colab": {
          "base_uri": "https://localhost:8080/",
          "height": 173
        },
        "outputId": "9dceb349-555c-4611-a9c4-61470a9bc388"
      },
      "source": [
        "tab = (np.array([1,2,3,4,5,6,7,8],float))\n",
        "\n",
        "print(\"EXERCICE 2 direct\\n\")\n",
        "haar = QNLHaar_1d_directe(tab)\n",
        "print(haar)\n",
        "print(\"\\n\\n\")\n",
        "\n",
        "\n",
        "print(\"EXERCICE 2 inverse\\n\")\n",
        "haari = QNLHaar_1d_inverse(haar)\n",
        "print(haari)"
      ],
      "execution_count": 27,
      "outputs": [
        {
          "output_type": "stream",
          "text": [
            "EXERCICE 2 direct\n",
            "\n",
            "[ 4.5 -2.  -1.  -1.   0.  -1.  -1.   0. ]\n",
            "\n",
            "\n",
            "\n",
            "EXERCICE 2 inverse\n",
            "\n",
            "[1. 2. 3. 4. 5. 6. 7. 8.]\n"
          ],
          "name": "stdout"
        }
      ]
    },
    {
      "cell_type": "code",
      "metadata": {
        "id": "EXhDzYzv33rB",
        "colab_type": "code",
        "colab": {}
      },
      "source": [
        "def ex1(n):\n",
        "    y = np.zeros((n))\n",
        "    for i in range(n):\n",
        "        y[i] = i+1\n",
        "    #print(y)\n",
        "    return y\n",
        "\n",
        "def ex3(n):\n",
        "    x = np.zeros((n))\n",
        "    for i in range(int(n/2)):\n",
        "        x[i] = np.sin((2*np.pi)*i)\n",
        "    for i in range(int((n/2)+1),n) :\n",
        "        x[i] = 1/2 + np.sin((2*np.pi)*i) \n",
        "    return x\n",
        "\n",
        "image1 = np.array([43,41,40,39,35,30,100,79,190,192,150,166,131,140,145,161],float)\n",
        "e1 = ex1(8)\n",
        "e3 = ex3(8)"
      ],
      "execution_count": 0,
      "outputs": []
    },
    {
      "cell_type": "code",
      "metadata": {
        "id": "lFp0VbdX39Fn",
        "colab_type": "code",
        "colab": {
          "base_uri": "https://localhost:8080/",
          "height": 312
        },
        "outputId": "3cff7a72-aa78-4772-9725-2ea1f488e9ff"
      },
      "source": [
        "print(\"EXERCICE 3\\n\")\n",
        "print('ex1')\n",
        "print(e1)\n",
        "print (QNLHaar_1d_inverse(QNLHaar_1d_directe(e1)))\n",
        "\n",
        "print('\\nex2')\n",
        "print(image1)\n",
        "print (QNLHaar_1d_inverse(QNLHaar_1d_directe(image1)))\n",
        "\n",
        "print('\\nex3')\n",
        "print(e3)\n",
        "print (QNLHaar_1d_inverse(QNLHaar_1d_directe(e3)))"
      ],
      "execution_count": 29,
      "outputs": [
        {
          "output_type": "stream",
          "text": [
            "EXERCICE 3\n",
            "\n",
            "ex1\n",
            "[1. 2. 3. 4. 5. 6. 7. 8.]\n",
            "[1. 2. 3. 4. 5. 6. 7. 8.]\n",
            "\n",
            "ex2\n",
            "[ 43.  41.  40.  39.  35.  30. 100.  79. 190. 192. 150. 166. 131. 140.\n",
            " 145. 161.]\n",
            "[ 43.  41.  40.  39.  35.  30. 100.  79. 190. 192. 150. 166. 131. 140.\n",
            " 145. 161.]\n",
            "\n",
            "ex3\n",
            "[ 0.00000000e+00 -2.44929360e-16 -4.89858720e-16 -7.34788079e-16\n",
            "  0.00000000e+00  5.00000000e-01  5.00000000e-01  5.00000000e-01]\n",
            "[ 6.93889390e-18 -2.38725140e-16 -4.85722573e-16 -7.25781112e-16\n",
            "  0.00000000e+00  5.00000000e-01  5.00000000e-01  5.00000000e-01]\n"
          ],
          "name": "stdout"
        }
      ]
    },
    {
      "cell_type": "code",
      "metadata": {
        "id": "TD0JW35c4eeU",
        "colab_type": "code",
        "colab": {}
      },
      "source": [
        "def seuillage(x,T):\n",
        "    y = np.copy(x)\n",
        "    for i in range((len(y))):\n",
        "        if (np.absolute(y[i]) <= T):\n",
        "            y[i] = 0.0\n",
        "    return y"
      ],
      "execution_count": 0,
      "outputs": []
    },
    {
      "cell_type": "code",
      "metadata": {
        "id": "gtE-zJ4O4qSd",
        "colab_type": "code",
        "colab": {
          "base_uri": "https://localhost:8080/",
          "height": 1000
        },
        "outputId": "84ad30ce-a995-43c8-e9bb-64ed5bd75075"
      },
      "source": [
        "print(\"EXERCICE 4 \\n\")\n",
        "taille = 64\n",
        "e11 = ex1(taille)\n",
        "e33 = ex3(taille)\n",
        "\n",
        "print('ex1')\n",
        "print(e11)\n",
        "print('Seuil 12')\n",
        "print (seuillage(QNLHaar_1d_directe(e11),12))\n",
        "print (seuillage(haar_1d_directe(taille,e11),12))\n",
        "print('Seuil 128')\n",
        "print (seuillage(QNLHaar_1d_directe(e11),128))\n",
        "print (seuillage(haar_1d_directe(taille,e11),128))\n",
        "\n",
        "print('\\nex2')\n",
        "print(image1)\n",
        "print('Seuil 12')\n",
        "print (seuillage(QNLHaar_1d_directe(image1),12))\n",
        "print (seuillage(haar_1d_directe(len(image1),image1),12))\n",
        "print('Seuil 128')\n",
        "print (seuillage(QNLHaar_1d_directe(image1),128))\n",
        "print (seuillage(haar_1d_directe(len(image1),image1),128))\n",
        "\n",
        "print('\\nex3')\n",
        "print(e33)\n",
        "print('Seuil 12')\n",
        "print (seuillage(QNLHaar_1d_directe(e33),12))\n",
        "print (seuillage(haar_1d_directe(taille,e33),12))\n",
        "print('Seuil 128')\n",
        "print (seuillage(QNLHaar_1d_directe(e33),128))\n",
        "print (seuillage(haar_1d_directe(taille,e33),128))"
      ],
      "execution_count": 31,
      "outputs": [
        {
          "output_type": "stream",
          "text": [
            "EXERCICE 4 \n",
            "\n",
            "ex1\n",
            "[ 1.  2.  3.  4.  5.  6.  7.  8.  9. 10. 11. 12. 13. 14. 15. 16. 17. 18.\n",
            " 19. 20. 21. 22. 23. 24. 25. 26. 27. 28. 29. 30. 31. 32. 33. 34. 35. 36.\n",
            " 37. 38. 39. 40. 41. 42. 43. 44. 45. 46. 47. 48. 49. 50. 51. 52. 53. 54.\n",
            " 55. 56. 57. 58. 59. 60. 61. 62. 63. 64.]\n",
            "Seuil 12\n",
            "[ 32.5 -16.    0.    0.    0.    0.    0.    0.    0.    0.    0.    0.\n",
            "   0.    0.    0.    0.    0.    0.    0.    0.    0.    0.    0.    0.\n",
            "   0.    0.    0.    0.    0.    0.    0.    0.    0.    0.    0.    0.\n",
            "   0.    0.    0.    0.    0.    0.    0.    0.    0.    0.    0.    0.\n",
            "   0.    0.    0.    0.    0.    0.    0.    0.    0.    0.    0.    0.\n",
            "   0.    0.    0.    0. ]\n",
            "[ 32.5 -16.    0.    0.    0.    0.    0.    0.    0.    0.    0.    0.\n",
            "   0.    0.    0.    0.    0.    0.    0.    0.    0.    0.    0.    0.\n",
            "   0.    0.    0.    0.    0.    0.    0.    0.    0.    0.    0.    0.\n",
            "   0.    0.    0.    0.    0.    0.    0.    0.    0.    0.    0.    0.\n",
            "   0.    0.    0.    0.    0.    0.    0.    0.    0.    0.    0.    0.\n",
            "   0.    0.    0.    0. ]\n",
            "Seuil 128\n",
            "[0. 0. 0. 0. 0. 0. 0. 0. 0. 0. 0. 0. 0. 0. 0. 0. 0. 0. 0. 0. 0. 0. 0. 0.\n",
            " 0. 0. 0. 0. 0. 0. 0. 0. 0. 0. 0. 0. 0. 0. 0. 0. 0. 0. 0. 0. 0. 0. 0. 0.\n",
            " 0. 0. 0. 0. 0. 0. 0. 0. 0. 0. 0. 0. 0. 0. 0. 0.]\n",
            "[0. 0. 0. 0. 0. 0. 0. 0. 0. 0. 0. 0. 0. 0. 0. 0. 0. 0. 0. 0. 0. 0. 0. 0.\n",
            " 0. 0. 0. 0. 0. 0. 0. 0. 0. 0. 0. 0. 0. 0. 0. 0. 0. 0. 0. 0. 0. 0. 0. 0.\n",
            " 0. 0. 0. 0. 0. 0. 0. 0. 0. 0. 0. 0. 0. 0. 0. 0.]\n",
            "\n",
            "ex2\n",
            "[ 43.  41.  40.  39.  35.  30. 100.  79. 190. 192. 150. 166. 131. 140.\n",
            " 145. 161.]\n",
            "Seuil 12\n",
            "[105.125   -54.25      0.       15.125     0.        0.        0.\n",
            " -50.09375   0.        0.        0.       32.75      0.      -18.625\n",
            "   0.        0.     ]\n",
            "[105.125 -54.25    0.     15.125   0.    -28.5    16.5     0.      0.\n",
            "   0.      0.      0.      0.      0.      0.      0.   ]\n",
            "Seuil 128\n",
            "[0. 0. 0. 0. 0. 0. 0. 0. 0. 0. 0. 0. 0. 0. 0. 0.]\n",
            "[0. 0. 0. 0. 0. 0. 0. 0. 0. 0. 0. 0. 0. 0. 0. 0.]\n",
            "\n",
            "ex3\n",
            "[ 0.00000000e+00 -2.44929360e-16 -4.89858720e-16 -7.34788079e-16\n",
            " -9.79717439e-16 -1.22464680e-15 -1.46957616e-15 -1.71450552e-15\n",
            " -1.95943488e-15 -2.20436424e-15 -2.44929360e-15 -9.79965032e-15\n",
            " -2.93915232e-15  3.92134568e-15 -3.42901104e-15 -1.07793678e-14\n",
            " -3.91886976e-15  2.94162824e-15 -4.40872848e-15 -1.17590852e-14\n",
            " -4.89858720e-15  1.96191080e-15 -1.95993006e-14 -1.27388026e-14\n",
            " -5.87830464e-15  9.82193362e-16  7.84269136e-15 -1.37185201e-14\n",
            " -6.85802208e-15  2.47592255e-18 -2.15587355e-14 -1.46982375e-14\n",
            "  0.00000000e+00  5.00000000e-01  5.00000000e-01  5.00000000e-01\n",
            "  5.00000000e-01  5.00000000e-01  5.00000000e-01  5.00000000e-01\n",
            "  5.00000000e-01  5.00000000e-01  5.00000000e-01  5.00000000e-01\n",
            "  5.00000000e-01  5.00000000e-01  5.00000000e-01  5.00000000e-01\n",
            "  5.00000000e-01  5.00000000e-01  5.00000000e-01  5.00000000e-01\n",
            "  5.00000000e-01  5.00000000e-01  5.00000000e-01  5.00000000e-01\n",
            "  5.00000000e-01  5.00000000e-01  5.00000000e-01  5.00000000e-01\n",
            "  5.00000000e-01  5.00000000e-01  5.00000000e-01  5.00000000e-01]\n",
            "Seuil 12\n",
            "[0. 0. 0. 0. 0. 0. 0. 0. 0. 0. 0. 0. 0. 0. 0. 0. 0. 0. 0. 0. 0. 0. 0. 0.\n",
            " 0. 0. 0. 0. 0. 0. 0. 0. 0. 0. 0. 0. 0. 0. 0. 0. 0. 0. 0. 0. 0. 0. 0. 0.\n",
            " 0. 0. 0. 0. 0. 0. 0. 0. 0. 0. 0. 0. 0. 0. 0. 0.]\n",
            "[0. 0. 0. 0. 0. 0. 0. 0. 0. 0. 0. 0. 0. 0. 0. 0. 0. 0. 0. 0. 0. 0. 0. 0.\n",
            " 0. 0. 0. 0. 0. 0. 0. 0. 0. 0. 0. 0. 0. 0. 0. 0. 0. 0. 0. 0. 0. 0. 0. 0.\n",
            " 0. 0. 0. 0. 0. 0. 0. 0. 0. 0. 0. 0. 0. 0. 0. 0.]\n",
            "Seuil 128\n",
            "[0. 0. 0. 0. 0. 0. 0. 0. 0. 0. 0. 0. 0. 0. 0. 0. 0. 0. 0. 0. 0. 0. 0. 0.\n",
            " 0. 0. 0. 0. 0. 0. 0. 0. 0. 0. 0. 0. 0. 0. 0. 0. 0. 0. 0. 0. 0. 0. 0. 0.\n",
            " 0. 0. 0. 0. 0. 0. 0. 0. 0. 0. 0. 0. 0. 0. 0. 0.]\n",
            "[0. 0. 0. 0. 0. 0. 0. 0. 0. 0. 0. 0. 0. 0. 0. 0. 0. 0. 0. 0. 0. 0. 0. 0.\n",
            " 0. 0. 0. 0. 0. 0. 0. 0. 0. 0. 0. 0. 0. 0. 0. 0. 0. 0. 0. 0. 0. 0. 0. 0.\n",
            " 0. 0. 0. 0. 0. 0. 0. 0. 0. 0. 0. 0. 0. 0. 0. 0.]\n"
          ],
          "name": "stdout"
        }
      ]
    },
    {
      "cell_type": "code",
      "metadata": {
        "id": "00Ek4FiW6uzz",
        "colab_type": "code",
        "colab": {}
      },
      "source": [
        "def erreur(a,b):\n",
        "    n = len(a)\n",
        "    s = 0\n",
        "    for i in range(n):\n",
        "        s = s + np.square(np.absolute(a[i]-b[i]))\n",
        "    s = np.sqrt(s)\n",
        "    return s"
      ],
      "execution_count": 0,
      "outputs": []
    },
    {
      "cell_type": "code",
      "metadata": {
        "id": "0TSqTDWP66-0",
        "colab_type": "code",
        "colab": {
          "base_uri": "https://localhost:8080/",
          "height": 642
        },
        "outputId": "cda25463-212b-4f4d-9f87-09400bc040a7"
      },
      "source": [
        "print(\"\\nEXERCICE 5\\n\")\n",
        "\n",
        "print('ex1')\n",
        "print('T=12')\n",
        "print('QuadHaar')\n",
        "print (erreur(e11,QNLHaar_1d_inverse(seuillage(e11,12))))\n",
        "print('Haar')\n",
        "print (erreur(e11,haar_1d_inverse(taille,seuillage(e11,12))))\n",
        "print('T=128')\n",
        "print('QuadHaar')\n",
        "print (erreur(e11,QNLHaar_1d_inverse(seuillage(e11,128))))\n",
        "print('Haar')\n",
        "print (erreur(e11,haar_1d_inverse(taille,seuillage(e11,128))))\n",
        "\n",
        "print('ex2')\n",
        "print('T=12')\n",
        "print('QuadHaar')\n",
        "print (erreur(image1,QNLHaar_1d_inverse(seuillage(image1,12))))\n",
        "print('Haar')\n",
        "print (erreur(image1,haar_1d_inverse(len(image1),seuillage(image1,12))))\n",
        "print('T=128')\n",
        "print('QuadHaar')\n",
        "print (erreur(image1,QNLHaar_1d_inverse(seuillage(image1,128))))\n",
        "print('Haar')\n",
        "print (erreur(image1,haar_1d_inverse(len(image1),seuillage(image1,128))))\n",
        "\n",
        "print('ex3')\n",
        "print('T=12')\n",
        "print('QuadHaar')\n",
        "print (erreur(e33,QNLHaar_1d_inverse(seuillage(e33,12))))\n",
        "print('Haar')\n",
        "print (erreur(e33,haar_1d_inverse(taille,seuillage(e33,12))))\n",
        "print('T=128')\n",
        "print('QuadHaar')\n",
        "print (erreur(e33,QNLHaar_1d_inverse(seuillage(e33,128))))\n",
        "print('Haar')\n",
        "print (erreur(e33,haar_1d_inverse(taille,seuillage(e33,128))))\n"
      ],
      "execution_count": 33,
      "outputs": [
        {
          "output_type": "stream",
          "text": [
            "\n",
            "EXERCICE 5\n",
            "\n",
            "ex1\n",
            "T=12\n",
            "QuadHaar\n",
            "600.1041641352774\n",
            "Haar\n",
            "547.7955823115042\n",
            "T=128\n",
            "QuadHaar\n",
            "299.0652102802999\n",
            "Haar\n",
            "299.0652102802999\n",
            "ex2\n",
            "T=12\n",
            "QuadHaar\n",
            "942.5075555068511\n",
            "Haar\n",
            "851.8485780935482\n",
            "T=128\n",
            "QuadHaar\n",
            "805.2005961249656\n",
            "Haar\n",
            "805.2005961249656\n",
            "ex3\n",
            "T=12\n",
            "QuadHaar\n",
            "2.7838821814149406\n",
            "Haar\n",
            "2.7838821814149406\n",
            "T=128\n",
            "QuadHaar\n",
            "2.7838821814149406\n",
            "Haar\n",
            "2.7838821814149406\n"
          ],
          "name": "stdout"
        }
      ]
    },
    {
      "cell_type": "code",
      "metadata": {
        "id": "_ukpQ9dp7IBy",
        "colab_type": "code",
        "colab": {}
      },
      "source": [
        "def QNLGraphe(x):\n",
        "    v = np.zeros((128,2))\n",
        "    for i in range(128):\n",
        "        v[i,0] = (erreur(x,QNLHaar_1d_inverse(seuillage(QNLHaar_1d_directe(x),i))))\n",
        "        v[i,1] = i\n",
        "    return v \n",
        "\n",
        "def graphe(x):\n",
        "    v = np.zeros((128,2))\n",
        "    for i in range(128):\n",
        "        v[i,0] = (erreur(x,haar_1d_inverse(len(x),seuillage(haar_1d_directe(len(x),x),i))))\n",
        "        v[i,1] = i\n",
        "    return v"
      ],
      "execution_count": 0,
      "outputs": []
    },
    {
      "cell_type": "code",
      "metadata": {
        "id": "OrIc6gGE7RKU",
        "colab_type": "code",
        "colab": {
          "base_uri": "https://localhost:8080/",
          "height": 896
        },
        "outputId": "06e5f4a4-aade-462b-e4a0-22c939716139"
      },
      "source": [
        "v1 = QNLGraphe(e11)\n",
        "v2 = graphe(e11)\n",
        "\n",
        "\n",
        "plt.scatter(v1[:,0],v1[:,1], color=\"red\")\n",
        "plt.scatter(v2[:,0],v2[:,1], color=\"blue\")\n",
        "plt.title('Qualite de la reconstruction par rapport aux seuils utilisées \\n QNLHaar vs Haar pour ex1')\n",
        "plt.xlabel('Erreur')\n",
        "plt.ylabel('Seuil')\n",
        "plt.show()\n",
        "\n",
        "v1 = QNLGraphe(image1)\n",
        "v2 = graphe(image1)\n",
        "\n",
        "\n",
        "plt.scatter(v1[:,0],v1[:,1], color=\"red\")\n",
        "plt.scatter(v2[:,0],v2[:,1], color=\"blue\")\n",
        "plt.title('Qualite de la reconstruction par rapport aux seuils \\n utilisées QNLHaar vs Haar pour ex2')\n",
        "plt.xlabel('Erreur')\n",
        "plt.ylabel('Seuil')\n",
        "plt.show()\n",
        "\n",
        "v1 = QNLGraphe(e33)\n",
        "v2 = graphe(e33)\n",
        "\n",
        "\n",
        "plt.scatter(v1[:,0],v1[:,1], color=\"red\")\n",
        "plt.scatter(v2[:,0],v2[:,1], color=\"blue\")\n",
        "plt.title('Qualite de la reconstruction par rapport aux seuils \\n utilisées QNLHaar vs Haar pour ex3')\n",
        "plt.xlabel('Erreur')\n",
        "plt.ylabel('Seuil')\n",
        "plt.show()"
      ],
      "execution_count": 35,
      "outputs": [
        {
          "output_type": "display_data",
          "data": {
            "image/png": "[encoded data removed]",
            "text/plain": [
              "<Figure size 432x288 with 1 Axes>"
            ]
          },
          "metadata": {
            "tags": []
          }
        },
        {
          "output_type": "display_data",
          "data": {
            "image/png": "[encoded data removed]",
            "text/plain": [
              "<Figure size 432x288 with 1 Axes>"
            ]
          },
          "metadata": {
            "tags": []
          }
        },
        {
          "output_type": "display_data",
          "data": {
            "image/png": "[encoded data removed]",
            "text/plain": [
              "<Figure size 432x288 with 1 Axes>"
            ]
          },
          "metadata": {
            "tags": []
          }
        }
      ]
    }
  ]
}